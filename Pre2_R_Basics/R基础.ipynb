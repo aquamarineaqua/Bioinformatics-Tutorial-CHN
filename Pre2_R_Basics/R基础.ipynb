{
 "cells": [
  {
   "cell_type": "markdown",
   "metadata": {},
   "source": [
    "本课程参考 Harvard Stat 115/215 Lab1 R Basics 相关内容，作为快速上手Bioinformatics的前置知识，内容简短。\n",
    "\n",
    "本内容也可直接看对应的ipynb记事本文件。\n",
    "\n",
    "## 1 安装相关R包\n",
    "\n",
    "我们在之前的文章中已经从Anaconda创建了R语言环境，且安装了相应的包，并可以用Jupyter Notebook环境写R了。\n",
    "\n",
    "本节需要用到3个R包：`ggplot2`、`dplyr`、`nycflights13`。\n",
    "\n",
    "其中ggplot2和dplyr已经包含在r-essentials中了，我们只需要安装nycflights13即可。\n",
    "\n",
    "```bash\n",
    "conda activate 环境名\n",
    "conda install -c conda-forge r-nycflights13\n",
    "```\n",
    "\n",
    "注：nycflights13包提供了一个经典的数据集集合，专门用于学习和教学数据分析。它记录了 2013 年美国纽约三大机场（JFK、LGA、EWR）所有航班的数据。可与 dplyr 和 ggplot2 一起用于教学数据清洗和探索性数据分析。\n",
    "\n",
    "---\n",
    "\n",
    "## 2 R中的数据类型和数据结构\n",
    "\n",
    "首先了解R的基本数据类型和数据结构。\n",
    "\n",
    "R有6种基本数据类型：\n",
    "\n",
    "- 字符型（character）`\"A\"`\n",
    "- 数值型（numeric）`1`\n",
    "- 整型（integer）`1L`\n",
    "- 逻辑型（logical）`TRUE, T`\n",
    "- 复数型（complex）`1+1i`\n",
    "\n",
    "R有多种数据结构，包括：\n",
    "\n",
    "- 原子向量（atomic vector）\n",
    "- 列表（list）\n",
    "- 矩阵（matrix）\n",
    "- 数据框（data frame）\n",
    "- 因子（factors）\n",
    "\n",
    "> 注：\n",
    "> \n",
    "> ①关于**atomic**（原子性）<br>\n",
    "> 意为向量或集合中所有元素都是同一种数据类型。\n",
    "> \n",
    "> ②关于**因子**（Factors）数据结构<br>\n",
    "> **因子**（factors）是R中的一种特殊数据结构，主要用于表示**分类数据**（categorical data）。因子将数据的不同类别存储为**离散的水平（levels）**，并使用整数值来表示这些水平，从而优化内存使用并提高处理效率。\n",
    "\n",
    "## 3 R向量（Vectors）\n",
    "\n",
    "R天生支持向量化操作（这与Python中的列表不同）。"
   ]
  },
  {
   "cell_type": "code",
   "execution_count": 1,
   "metadata": {
    "vscode": {
     "languageId": "r"
    }
   },
   "outputs": [
    {
     "name": "stdout",
     "output_type": "stream",
     "text": [
      "[1] 2\n"
     ]
    },
    {
     "data": {
      "text/html": [
       "<style>\n",
       ".list-inline {list-style: none; margin:0; padding: 0}\n",
       ".list-inline>li {display: inline-block}\n",
       ".list-inline>li:not(:last-child)::after {content: \"\\00b7\"; padding: 0 .5ex}\n",
       "</style>\n",
       "<ol class=list-inline><li>1</li><li>4</li><li>9</li><li>16</li><li>25</li></ol>\n"
      ],
      "text/latex": [
       "\\begin{enumerate*}\n",
       "\\item 1\n",
       "\\item 4\n",
       "\\item 9\n",
       "\\item 16\n",
       "\\item 25\n",
       "\\end{enumerate*}\n"
      ],
      "text/markdown": [
       "1. 1\n",
       "2. 4\n",
       "3. 9\n",
       "4. 16\n",
       "5. 25\n",
       "\n",
       "\n"
      ],
      "text/plain": [
       "[1]  1  4  9 16 25"
      ]
     },
     "metadata": {},
     "output_type": "display_data"
    },
    {
     "data": {
      "text/html": [
       "<style>\n",
       ".list-inline {list-style: none; margin:0; padding: 0}\n",
       ".list-inline>li {display: inline-block}\n",
       ".list-inline>li:not(:last-child)::after {content: \"\\00b7\"; padding: 0 .5ex}\n",
       "</style>\n",
       "<ol class=list-inline><li>1</li><li>1.4142135623731</li><li>1.73205080756888</li><li>2</li><li>2.23606797749979</li></ol>\n"
      ],
      "text/latex": [
       "\\begin{enumerate*}\n",
       "\\item 1\n",
       "\\item 1.4142135623731\n",
       "\\item 1.73205080756888\n",
       "\\item 2\n",
       "\\item 2.23606797749979\n",
       "\\end{enumerate*}\n"
      ],
      "text/markdown": [
       "1. 1\n",
       "2. 1.4142135623731\n",
       "3. 1.73205080756888\n",
       "4. 2\n",
       "5. 2.23606797749979\n",
       "\n",
       "\n"
      ],
      "text/plain": [
       "[1] 1.000000 1.414214 1.732051 2.000000 2.236068"
      ]
     },
     "metadata": {},
     "output_type": "display_data"
    },
    {
     "name": "stdout",
     "output_type": "stream",
     "text": [
      "[1] 1 2\n"
     ]
    },
    {
     "data": {
      "text/html": [
       "<style>\n",
       ".list-inline {list-style: none; margin:0; padding: 0}\n",
       ".list-inline>li {display: inline-block}\n",
       ".list-inline>li:not(:last-child)::after {content: \"\\00b7\"; padding: 0 .5ex}\n",
       "</style>\n",
       "<ol class=list-inline><li>0</li><li>0</li><li>0</li><li>0</li><li>0</li></ol>\n"
      ],
      "text/latex": [
       "\\begin{enumerate*}\n",
       "\\item 0\n",
       "\\item 0\n",
       "\\item 0\n",
       "\\item 0\n",
       "\\item 0\n",
       "\\end{enumerate*}\n"
      ],
      "text/markdown": [
       "1. 0\n",
       "2. 0\n",
       "3. 0\n",
       "4. 0\n",
       "5. 0\n",
       "\n",
       "\n"
      ],
      "text/plain": [
       "[1] 0 0 0 0 0"
      ]
     },
     "metadata": {},
     "output_type": "display_data"
    }
   ],
   "source": [
    "# 创建一个向量\n",
    "# 注意R中对象赋值的符号为：<-\n",
    "x <- c(1, 2, 3, 4, 5) \n",
    "print(x[2]) # 按索引访问元素（索引从1开始）\n",
    "\n",
    "# 对向量中的每个元素进行操作\n",
    "x^2\n",
    "sqrt(x)\n",
    "\n",
    "# 向量也可以是逻辑型\n",
    "print(x[x < 3]) # 使用逻辑向量进行索引\n",
    "\n",
    "# 初始化一个空向量\n",
    "vector(\"numeric\", 5)"
   ]
  },
  {
   "cell_type": "markdown",
   "metadata": {},
   "source": [
    "## 4 R矩阵（Matrices）\n",
    "\n",
    "矩阵是带有维度属性的R向量，它也是原子性的（atomic）。"
   ]
  },
  {
   "cell_type": "code",
   "execution_count": 2,
   "metadata": {
    "vscode": {
     "languageId": "r"
    }
   },
   "outputs": [
    {
     "data": {
      "text/html": [
       "<table class=\"dataframe\">\n",
       "<caption>A matrix: 2 × 4 of type int</caption>\n",
       "<tbody>\n",
       "\t<tr><td>1</td><td>3</td><td>5</td><td>7</td></tr>\n",
       "\t<tr><td>2</td><td>4</td><td>6</td><td>8</td></tr>\n",
       "</tbody>\n",
       "</table>\n"
      ],
      "text/latex": [
       "A matrix: 2 × 4 of type int\n",
       "\\begin{tabular}{llll}\n",
       "\t 1 & 3 & 5 & 7\\\\\n",
       "\t 2 & 4 & 6 & 8\\\\\n",
       "\\end{tabular}\n"
      ],
      "text/markdown": [
       "\n",
       "A matrix: 2 × 4 of type int\n",
       "\n",
       "| 1 | 3 | 5 | 7 |\n",
       "| 2 | 4 | 6 | 8 |\n",
       "\n"
      ],
      "text/plain": [
       "     [,1] [,2] [,3] [,4]\n",
       "[1,] 1    3    5    7   \n",
       "[2,] 2    4    6    8   "
      ]
     },
     "metadata": {},
     "output_type": "display_data"
    },
    {
     "name": "stdout",
     "output_type": "stream",
     "text": [
      " int [1:2, 1:4] 1 2 3 4 5 6 7 8\n"
     ]
    },
    {
     "data": {
      "text/html": [
       "3"
      ],
      "text/latex": [
       "3"
      ],
      "text/markdown": [
       "3"
      ],
      "text/plain": [
       "[1] 3"
      ]
     },
     "metadata": {},
     "output_type": "display_data"
    },
    {
     "data": {
      "text/html": [
       "<style>\n",
       ".list-inline {list-style: none; margin:0; padding: 0}\n",
       ".list-inline>li {display: inline-block}\n",
       ".list-inline>li:not(:last-child)::after {content: \"\\00b7\"; padding: 0 .5ex}\n",
       "</style>\n",
       "<ol class=list-inline><li>3</li><li>4</li></ol>\n"
      ],
      "text/latex": [
       "\\begin{enumerate*}\n",
       "\\item 3\n",
       "\\item 4\n",
       "\\end{enumerate*}\n"
      ],
      "text/markdown": [
       "1. 3\n",
       "2. 4\n",
       "\n",
       "\n"
      ],
      "text/plain": [
       "[1] 3 4"
      ]
     },
     "metadata": {},
     "output_type": "display_data"
    },
    {
     "data": {
      "text/html": [
       "<style>\n",
       ".list-inline {list-style: none; margin:0; padding: 0}\n",
       ".list-inline>li {display: inline-block}\n",
       ".list-inline>li:not(:last-child)::after {content: \"\\00b7\"; padding: 0 .5ex}\n",
       "</style>\n",
       "<ol class=list-inline><li>2</li><li>4</li></ol>\n"
      ],
      "text/latex": [
       "\\begin{enumerate*}\n",
       "\\item 2\n",
       "\\item 4\n",
       "\\end{enumerate*}\n"
      ],
      "text/markdown": [
       "1. 2\n",
       "2. 4\n",
       "\n",
       "\n"
      ],
      "text/plain": [
       "[1] 2 4"
      ]
     },
     "metadata": {},
     "output_type": "display_data"
    },
    {
     "data": {
      "text/html": [
       "<table class=\"dataframe\">\n",
       "<caption>A matrix: 2 × 2 of type dbl</caption>\n",
       "<tbody>\n",
       "\t<tr><td> 84</td><td>100</td></tr>\n",
       "\t<tr><td>100</td><td>120</td></tr>\n",
       "</tbody>\n",
       "</table>\n"
      ],
      "text/latex": [
       "A matrix: 2 × 2 of type dbl\n",
       "\\begin{tabular}{ll}\n",
       "\t  84 & 100\\\\\n",
       "\t 100 & 120\\\\\n",
       "\\end{tabular}\n"
      ],
      "text/markdown": [
       "\n",
       "A matrix: 2 × 2 of type dbl\n",
       "\n",
       "|  84 | 100 |\n",
       "| 100 | 120 |\n",
       "\n"
      ],
      "text/plain": [
       "     [,1] [,2]\n",
       "[1,]  84  100 \n",
       "[2,] 100  120 "
      ]
     },
     "metadata": {},
     "output_type": "display_data"
    }
   ],
   "source": [
    "# 创建一个2x4矩阵\n",
    "y <- matrix(1:8, nrow = 2, ncol = 4, byrow = FALSE) \n",
    "y # 查看矩阵\n",
    "str(y) # 查看矩阵的结构\n",
    "\n",
    "# 访问矩阵元素\n",
    "y[1, 2] # 访问第一行第二列的元素\n",
    "y[, 2]  # 访问第二列的所有元素\n",
    "dim(y) # 获取矩阵的维度(size of y)\n",
    "y %*% t(y) # 矩阵乘法"
   ]
  },
  {
   "cell_type": "code",
   "execution_count": 3,
   "metadata": {
    "vscode": {
     "languageId": "r"
    }
   },
   "outputs": [
    {
     "data": {
      "text/html": [
       "<style>\n",
       ".list-inline {list-style: none; margin:0; padding: 0}\n",
       ".list-inline>li {display: inline-block}\n",
       ".list-inline>li:not(:last-child)::after {content: \"\\00b7\"; padding: 0 .5ex}\n",
       "</style>\n",
       "<ol class=list-inline><li>1</li><li>2</li><li>3</li><li>4</li><li>5</li><li>6</li><li>7</li><li>8</li></ol>\n"
      ],
      "text/latex": [
       "\\begin{enumerate*}\n",
       "\\item 1\n",
       "\\item 2\n",
       "\\item 3\n",
       "\\item 4\n",
       "\\item 5\n",
       "\\item 6\n",
       "\\item 7\n",
       "\\item 8\n",
       "\\end{enumerate*}\n"
      ],
      "text/markdown": [
       "1. 1\n",
       "2. 2\n",
       "3. 3\n",
       "4. 4\n",
       "5. 5\n",
       "6. 6\n",
       "7. 7\n",
       "8. 8\n",
       "\n",
       "\n"
      ],
      "text/plain": [
       "[1] 1 2 3 4 5 6 7 8"
      ]
     },
     "metadata": {},
     "output_type": "display_data"
    }
   ],
   "source": [
    "dim(y) <- NULL  # 将y的维度信息清除，矩阵就变成了展平的一维vector\n",
    "y"
   ]
  },
  {
   "cell_type": "markdown",
   "metadata": {},
   "source": [
    "## 5 R列表（List）\n",
    "\n",
    "列表是可包含不同类型对象的通用向量。"
   ]
  },
  {
   "cell_type": "code",
   "execution_count": 4,
   "metadata": {
    "vscode": {
     "languageId": "r"
    }
   },
   "outputs": [
    {
     "name": "stdout",
     "output_type": "stream",
     "text": [
      "List of 3\n",
      " $ 1st Quarter : chr [1:3] \"Jan\" \"Feb\" \"Mar\"\n",
      " $ A_Matrix    : num [1:2, 1:3] 3 9 5 1 -2 8\n",
      " $ A Inner list:List of 2\n",
      "  ..$ : chr \"green\"\n",
      "  ..$ : num 12.3\n"
     ]
    },
    {
     "data": {
      "text/html": [
       "<dl>\n",
       "\t<dt>$`1st Quarter`</dt>\n",
       "\t\t<dd><style>\n",
       ".list-inline {list-style: none; margin:0; padding: 0}\n",
       ".list-inline>li {display: inline-block}\n",
       ".list-inline>li:not(:last-child)::after {content: \"\\00b7\"; padding: 0 .5ex}\n",
       "</style>\n",
       "<ol class=list-inline><li>'Jan'</li><li>'Feb'</li><li>'Mar'</li></ol>\n",
       "</dd>\n",
       "\t<dt>$A_Matrix</dt>\n",
       "\t\t<dd><table class=\"dataframe\">\n",
       "<caption>A matrix: 2 × 3 of type dbl</caption>\n",
       "<tbody>\n",
       "\t<tr><td>3</td><td>5</td><td>-2</td></tr>\n",
       "\t<tr><td>9</td><td>1</td><td> 8</td></tr>\n",
       "</tbody>\n",
       "</table>\n",
       "</dd>\n",
       "\t<dt>$`A Inner list`</dt>\n",
       "\t\t<dd><ol>\n",
       "\t<li>'green'</li>\n",
       "\t<li>12.3</li>\n",
       "</ol>\n",
       "</dd>\n",
       "</dl>\n"
      ],
      "text/latex": [
       "\\begin{description}\n",
       "\\item[\\$`1st Quarter`] \\begin{enumerate*}\n",
       "\\item 'Jan'\n",
       "\\item 'Feb'\n",
       "\\item 'Mar'\n",
       "\\end{enumerate*}\n",
       "\n",
       "\\item[\\$A\\_Matrix] A matrix: 2 × 3 of type dbl\n",
       "\\begin{tabular}{lll}\n",
       "\t 3 & 5 & -2\\\\\n",
       "\t 9 & 1 &  8\\\\\n",
       "\\end{tabular}\n",
       "\n",
       "\\item[\\$`A Inner list`] \\begin{enumerate}\n",
       "\\item 'green'\n",
       "\\item 12.3\n",
       "\\end{enumerate}\n",
       "\n",
       "\\end{description}\n"
      ],
      "text/markdown": [
       "$`1st Quarter`\n",
       ":   1. 'Jan'\n",
       "2. 'Feb'\n",
       "3. 'Mar'\n",
       "\n",
       "\n",
       "\n",
       "$A_Matrix\n",
       ":   \n",
       "A matrix: 2 × 3 of type dbl\n",
       "\n",
       "| 3 | 5 | -2 |\n",
       "| 9 | 1 |  8 |\n",
       "\n",
       "\n",
       "$`A Inner list`\n",
       ":   1. 'green'\n",
       "2. 12.3\n",
       "\n",
       "\n",
       "\n",
       "\n",
       "\n"
      ],
      "text/plain": [
       "$`1st Quarter`\n",
       "[1] \"Jan\" \"Feb\" \"Mar\"\n",
       "\n",
       "$A_Matrix\n",
       "     [,1] [,2] [,3]\n",
       "[1,]    3    5   -2\n",
       "[2,]    9    1    8\n",
       "\n",
       "$`A Inner list`\n",
       "$`A Inner list`[[1]]\n",
       "[1] \"green\"\n",
       "\n",
       "$`A Inner list`[[2]]\n",
       "[1] 12.3\n",
       "\n"
      ]
     },
     "metadata": {},
     "output_type": "display_data"
    }
   ],
   "source": [
    "# 创建一个包含向量、矩阵和列表的列表\n",
    "list_data <- list(c(\"Jan\", \"Feb\", \"Mar\"), \n",
    "                  matrix(c(3, 9, 5, 1, -2, 8), nrow = 2),\n",
    "                  list(\"green\", 12.3))\n",
    "\n",
    "# 为列表中的元素命名\n",
    "names(list_data) <- c(\"1st Quarter\", \"A_Matrix\", \"A Inner list\")\n",
    "\n",
    "# 显示列表的结构\n",
    "str(list_data)\n",
    "\n",
    "# 显示列表\n",
    "list_data"
   ]
  },
  {
   "cell_type": "markdown",
   "metadata": {},
   "source": [
    "## 6 R数据框（Data Frames）\n",
    "\n",
    "数据框是含有多个相同**长度**的R向量的列表。"
   ]
  },
  {
   "cell_type": "code",
   "execution_count": 5,
   "metadata": {
    "vscode": {
     "languageId": "r"
    }
   },
   "outputs": [
    {
     "name": "stdout",
     "output_type": "stream",
     "text": [
      "'data.frame':\t32 obs. of  11 variables:\n",
      " $ mpg : num  21 21 22.8 21.4 18.7 18.1 14.3 24.4 22.8 19.2 ...\n",
      " $ cyl : num  6 6 4 6 8 6 8 4 4 6 ...\n",
      " $ disp: num  160 160 108 258 360 ...\n",
      " $ hp  : num  110 110 93 110 175 105 245 62 95 123 ...\n",
      " $ drat: num  3.9 3.9 3.85 3.08 3.15 2.76 3.21 3.69 3.92 3.92 ...\n",
      " $ wt  : num  2.62 2.88 2.32 3.21 3.44 ...\n",
      " $ qsec: num  16.5 17 18.6 19.4 17 ...\n",
      " $ vs  : num  0 0 1 1 0 1 0 1 1 1 ...\n",
      " $ am  : num  1 1 1 0 0 0 0 0 0 0 ...\n",
      " $ gear: num  4 4 4 3 3 3 3 4 4 4 ...\n",
      " $ carb: num  4 4 1 1 2 1 4 2 2 4 ...\n"
     ]
    },
    {
     "data": {
      "text/html": [
       "<table class=\"dataframe\">\n",
       "<caption>A data.frame: 6 × 11</caption>\n",
       "<thead>\n",
       "\t<tr><th></th><th scope=col>mpg</th><th scope=col>cyl</th><th scope=col>disp</th><th scope=col>hp</th><th scope=col>drat</th><th scope=col>wt</th><th scope=col>qsec</th><th scope=col>vs</th><th scope=col>am</th><th scope=col>gear</th><th scope=col>carb</th></tr>\n",
       "\t<tr><th></th><th scope=col>&lt;dbl&gt;</th><th scope=col>&lt;dbl&gt;</th><th scope=col>&lt;dbl&gt;</th><th scope=col>&lt;dbl&gt;</th><th scope=col>&lt;dbl&gt;</th><th scope=col>&lt;dbl&gt;</th><th scope=col>&lt;dbl&gt;</th><th scope=col>&lt;dbl&gt;</th><th scope=col>&lt;dbl&gt;</th><th scope=col>&lt;dbl&gt;</th><th scope=col>&lt;dbl&gt;</th></tr>\n",
       "</thead>\n",
       "<tbody>\n",
       "\t<tr><th scope=row>Mazda RX4</th><td>21.0</td><td>6</td><td>160</td><td>110</td><td>3.90</td><td>2.620</td><td>16.46</td><td>0</td><td>1</td><td>4</td><td>4</td></tr>\n",
       "\t<tr><th scope=row>Mazda RX4 Wag</th><td>21.0</td><td>6</td><td>160</td><td>110</td><td>3.90</td><td>2.875</td><td>17.02</td><td>0</td><td>1</td><td>4</td><td>4</td></tr>\n",
       "\t<tr><th scope=row>Datsun 710</th><td>22.8</td><td>4</td><td>108</td><td> 93</td><td>3.85</td><td>2.320</td><td>18.61</td><td>1</td><td>1</td><td>4</td><td>1</td></tr>\n",
       "\t<tr><th scope=row>Hornet 4 Drive</th><td>21.4</td><td>6</td><td>258</td><td>110</td><td>3.08</td><td>3.215</td><td>19.44</td><td>1</td><td>0</td><td>3</td><td>1</td></tr>\n",
       "\t<tr><th scope=row>Hornet Sportabout</th><td>18.7</td><td>8</td><td>360</td><td>175</td><td>3.15</td><td>3.440</td><td>17.02</td><td>0</td><td>0</td><td>3</td><td>2</td></tr>\n",
       "\t<tr><th scope=row>Valiant</th><td>18.1</td><td>6</td><td>225</td><td>105</td><td>2.76</td><td>3.460</td><td>20.22</td><td>1</td><td>0</td><td>3</td><td>1</td></tr>\n",
       "</tbody>\n",
       "</table>\n"
      ],
      "text/latex": [
       "A data.frame: 6 × 11\n",
       "\\begin{tabular}{r|lllllllllll}\n",
       "  & mpg & cyl & disp & hp & drat & wt & qsec & vs & am & gear & carb\\\\\n",
       "  & <dbl> & <dbl> & <dbl> & <dbl> & <dbl> & <dbl> & <dbl> & <dbl> & <dbl> & <dbl> & <dbl>\\\\\n",
       "\\hline\n",
       "\tMazda RX4 & 21.0 & 6 & 160 & 110 & 3.90 & 2.620 & 16.46 & 0 & 1 & 4 & 4\\\\\n",
       "\tMazda RX4 Wag & 21.0 & 6 & 160 & 110 & 3.90 & 2.875 & 17.02 & 0 & 1 & 4 & 4\\\\\n",
       "\tDatsun 710 & 22.8 & 4 & 108 &  93 & 3.85 & 2.320 & 18.61 & 1 & 1 & 4 & 1\\\\\n",
       "\tHornet 4 Drive & 21.4 & 6 & 258 & 110 & 3.08 & 3.215 & 19.44 & 1 & 0 & 3 & 1\\\\\n",
       "\tHornet Sportabout & 18.7 & 8 & 360 & 175 & 3.15 & 3.440 & 17.02 & 0 & 0 & 3 & 2\\\\\n",
       "\tValiant & 18.1 & 6 & 225 & 105 & 2.76 & 3.460 & 20.22 & 1 & 0 & 3 & 1\\\\\n",
       "\\end{tabular}\n"
      ],
      "text/markdown": [
       "\n",
       "A data.frame: 6 × 11\n",
       "\n",
       "| <!--/--> | mpg &lt;dbl&gt; | cyl &lt;dbl&gt; | disp &lt;dbl&gt; | hp &lt;dbl&gt; | drat &lt;dbl&gt; | wt &lt;dbl&gt; | qsec &lt;dbl&gt; | vs &lt;dbl&gt; | am &lt;dbl&gt; | gear &lt;dbl&gt; | carb &lt;dbl&gt; |\n",
       "|---|---|---|---|---|---|---|---|---|---|---|---|\n",
       "| Mazda RX4 | 21.0 | 6 | 160 | 110 | 3.90 | 2.620 | 16.46 | 0 | 1 | 4 | 4 |\n",
       "| Mazda RX4 Wag | 21.0 | 6 | 160 | 110 | 3.90 | 2.875 | 17.02 | 0 | 1 | 4 | 4 |\n",
       "| Datsun 710 | 22.8 | 4 | 108 |  93 | 3.85 | 2.320 | 18.61 | 1 | 1 | 4 | 1 |\n",
       "| Hornet 4 Drive | 21.4 | 6 | 258 | 110 | 3.08 | 3.215 | 19.44 | 1 | 0 | 3 | 1 |\n",
       "| Hornet Sportabout | 18.7 | 8 | 360 | 175 | 3.15 | 3.440 | 17.02 | 0 | 0 | 3 | 2 |\n",
       "| Valiant | 18.1 | 6 | 225 | 105 | 2.76 | 3.460 | 20.22 | 1 | 0 | 3 | 1 |\n",
       "\n"
      ],
      "text/plain": [
       "                  mpg  cyl disp hp  drat wt    qsec  vs am gear carb\n",
       "Mazda RX4         21.0 6   160  110 3.90 2.620 16.46 0  1  4    4   \n",
       "Mazda RX4 Wag     21.0 6   160  110 3.90 2.875 17.02 0  1  4    4   \n",
       "Datsun 710        22.8 4   108   93 3.85 2.320 18.61 1  1  4    1   \n",
       "Hornet 4 Drive    21.4 6   258  110 3.08 3.215 19.44 1  0  3    1   \n",
       "Hornet Sportabout 18.7 8   360  175 3.15 3.440 17.02 0  0  3    2   \n",
       "Valiant           18.1 6   225  105 2.76 3.460 20.22 1  0  3    1   "
      ]
     },
     "metadata": {},
     "output_type": "display_data"
    }
   ],
   "source": [
    "data(mtcars) # 加载一个著名的数据集，来自nycflights13\n",
    "str(mtcars) # 查看数据框的结构，它是数值向量的列表\n",
    "head(mtcars) # 显示前六行"
   ]
  },
  {
   "cell_type": "code",
   "execution_count": 6,
   "metadata": {
    "vscode": {
     "languageId": "r"
    }
   },
   "outputs": [
    {
     "data": {
      "text/html": [
       "21"
      ],
      "text/latex": [
       "21"
      ],
      "text/markdown": [
       "21"
      ],
      "text/plain": [
       "[1] 21"
      ]
     },
     "metadata": {},
     "output_type": "display_data"
    },
    {
     "data": {
      "text/html": [
       "<table class=\"dataframe\">\n",
       "<caption>A data.frame: 6 × 1</caption>\n",
       "<thead>\n",
       "\t<tr><th></th><th scope=col>mpg</th></tr>\n",
       "\t<tr><th></th><th scope=col>&lt;dbl&gt;</th></tr>\n",
       "</thead>\n",
       "<tbody>\n",
       "\t<tr><th scope=row>Mazda RX4</th><td>21.0</td></tr>\n",
       "\t<tr><th scope=row>Mazda RX4 Wag</th><td>21.0</td></tr>\n",
       "\t<tr><th scope=row>Datsun 710</th><td>22.8</td></tr>\n",
       "\t<tr><th scope=row>Hornet 4 Drive</th><td>21.4</td></tr>\n",
       "\t<tr><th scope=row>Hornet Sportabout</th><td>18.7</td></tr>\n",
       "\t<tr><th scope=row>Valiant</th><td>18.1</td></tr>\n",
       "</tbody>\n",
       "</table>\n"
      ],
      "text/latex": [
       "A data.frame: 6 × 1\n",
       "\\begin{tabular}{r|l}\n",
       "  & mpg\\\\\n",
       "  & <dbl>\\\\\n",
       "\\hline\n",
       "\tMazda RX4 & 21.0\\\\\n",
       "\tMazda RX4 Wag & 21.0\\\\\n",
       "\tDatsun 710 & 22.8\\\\\n",
       "\tHornet 4 Drive & 21.4\\\\\n",
       "\tHornet Sportabout & 18.7\\\\\n",
       "\tValiant & 18.1\\\\\n",
       "\\end{tabular}\n"
      ],
      "text/markdown": [
       "\n",
       "A data.frame: 6 × 1\n",
       "\n",
       "| <!--/--> | mpg &lt;dbl&gt; |\n",
       "|---|---|\n",
       "| Mazda RX4 | 21.0 |\n",
       "| Mazda RX4 Wag | 21.0 |\n",
       "| Datsun 710 | 22.8 |\n",
       "| Hornet 4 Drive | 21.4 |\n",
       "| Hornet Sportabout | 18.7 |\n",
       "| Valiant | 18.1 |\n",
       "\n"
      ],
      "text/plain": [
       "                  mpg \n",
       "Mazda RX4         21.0\n",
       "Mazda RX4 Wag     21.0\n",
       "Datsun 710        22.8\n",
       "Hornet 4 Drive    21.4\n",
       "Hornet Sportabout 18.7\n",
       "Valiant           18.1"
      ]
     },
     "metadata": {},
     "output_type": "display_data"
    },
    {
     "data": {
      "text/html": [
       "<style>\n",
       ".list-inline {list-style: none; margin:0; padding: 0}\n",
       ".list-inline>li {display: inline-block}\n",
       ".list-inline>li:not(:last-child)::after {content: \"\\00b7\"; padding: 0 .5ex}\n",
       "</style>\n",
       "<ol class=list-inline><li>21</li><li>21</li><li>22.8</li><li>21.4</li><li>18.7</li><li>18.1</li></ol>\n"
      ],
      "text/latex": [
       "\\begin{enumerate*}\n",
       "\\item 21\n",
       "\\item 21\n",
       "\\item 22.8\n",
       "\\item 21.4\n",
       "\\item 18.7\n",
       "\\item 18.1\n",
       "\\end{enumerate*}\n"
      ],
      "text/markdown": [
       "1. 21\n",
       "2. 21\n",
       "3. 22.8\n",
       "4. 21.4\n",
       "5. 18.7\n",
       "6. 18.1\n",
       "\n",
       "\n"
      ],
      "text/plain": [
       "[1] 21.0 21.0 22.8 21.4 18.7 18.1"
      ]
     },
     "metadata": {},
     "output_type": "display_data"
    },
    {
     "data": {
      "text/html": [
       "<style>\n",
       ".dl-inline {width: auto; margin:0; padding: 0}\n",
       ".dl-inline>dt, .dl-inline>dd {float: none; width: auto; display: inline-block}\n",
       ".dl-inline>dt::after {content: \":\\0020\"; padding-right: .5ex}\n",
       ".dl-inline>dt:not(:first-of-type) {padding-left: .5ex}\n",
       "</style><dl class=dl-inline><dt>mpg</dt><dd>642.9</dd><dt>cyl</dt><dd>198</dd><dt>disp</dt><dd>7383.1</dd><dt>hp</dt><dd>4694</dd><dt>drat</dt><dd>115.09</dd><dt>wt</dt><dd>102.952</dd><dt>qsec</dt><dd>571.16</dd><dt>vs</dt><dd>14</dd><dt>am</dt><dd>13</dd><dt>gear</dt><dd>118</dd><dt>carb</dt><dd>90</dd></dl>\n"
      ],
      "text/latex": [
       "\\begin{description*}\n",
       "\\item[mpg] 642.9\n",
       "\\item[cyl] 198\n",
       "\\item[disp] 7383.1\n",
       "\\item[hp] 4694\n",
       "\\item[drat] 115.09\n",
       "\\item[wt] 102.952\n",
       "\\item[qsec] 571.16\n",
       "\\item[vs] 14\n",
       "\\item[am] 13\n",
       "\\item[gear] 118\n",
       "\\item[carb] 90\n",
       "\\end{description*}\n"
      ],
      "text/markdown": [
       "mpg\n",
       ":   642.9cyl\n",
       ":   198disp\n",
       ":   7383.1hp\n",
       ":   4694drat\n",
       ":   115.09wt\n",
       ":   102.952qsec\n",
       ":   571.16vs\n",
       ":   14am\n",
       ":   13gear\n",
       ":   118carb\n",
       ":   90\n",
       "\n"
      ],
      "text/plain": [
       "     mpg      cyl     disp       hp     drat       wt     qsec       vs \n",
       " 642.900  198.000 7383.100 4694.000  115.090  102.952  571.160   14.000 \n",
       "      am     gear     carb \n",
       "  13.000  118.000   90.000 "
      ]
     },
     "metadata": {},
     "output_type": "display_data"
    }
   ],
   "source": [
    "mtcars[1, 1] # 访问第一行第一列的值\n",
    "head(mtcars[1]) # 返回数据框中第一列（仍是数据框形式）\n",
    "head(mtcars[[1]]) # 返回数据框中第一列的向量形式\n",
    "sapply(mtcars, sum) # 对数据框的每列计算总和"
   ]
  },
  {
   "cell_type": "markdown",
   "metadata": {},
   "source": [
    "## 7 使用`dplyr`进行数据操作\n",
    "\n",
    "- **`dplyr`** 是一个R包，它常被视为R中一种数据处理的“语言”，可以非常简单直观地操作数据。\n",
    "- 数据科学（以及计算生物学）的工作中，80%是数据清理，20%是数据分析。\n",
    "- `dplyr` 的官方文档：[https://cran.r-project.org/web/packages/dplyr/vignettes/dplyr.html](https://cran.r-project.org/web/packages/dplyr/vignettes/dplyr.html)\n"
   ]
  },
  {
   "cell_type": "code",
   "execution_count": 7,
   "metadata": {
    "vscode": {
     "languageId": "r"
    }
   },
   "outputs": [
    {
     "name": "stderr",
     "output_type": "stream",
     "text": [
      "\n",
      "Attaching package: 'dplyr'\n",
      "\n",
      "\n",
      "The following objects are masked from 'package:stats':\n",
      "\n",
      "    filter, lag\n",
      "\n",
      "\n",
      "The following objects are masked from 'package:base':\n",
      "\n",
      "    intersect, setdiff, setequal, union\n",
      "\n",
      "\n"
     ]
    },
    {
     "data": {
      "text/html": [
       "<table class=\"dataframe\">\n",
       "<caption>A tibble: 6 × 19</caption>\n",
       "<thead>\n",
       "\t<tr><th scope=col>year</th><th scope=col>month</th><th scope=col>day</th><th scope=col>dep_time</th><th scope=col>sched_dep_time</th><th scope=col>dep_delay</th><th scope=col>arr_time</th><th scope=col>sched_arr_time</th><th scope=col>arr_delay</th><th scope=col>carrier</th><th scope=col>flight</th><th scope=col>tailnum</th><th scope=col>origin</th><th scope=col>dest</th><th scope=col>air_time</th><th scope=col>distance</th><th scope=col>hour</th><th scope=col>minute</th><th scope=col>time_hour</th></tr>\n",
       "\t<tr><th scope=col>&lt;int&gt;</th><th scope=col>&lt;int&gt;</th><th scope=col>&lt;int&gt;</th><th scope=col>&lt;int&gt;</th><th scope=col>&lt;int&gt;</th><th scope=col>&lt;dbl&gt;</th><th scope=col>&lt;int&gt;</th><th scope=col>&lt;int&gt;</th><th scope=col>&lt;dbl&gt;</th><th scope=col>&lt;chr&gt;</th><th scope=col>&lt;int&gt;</th><th scope=col>&lt;chr&gt;</th><th scope=col>&lt;chr&gt;</th><th scope=col>&lt;chr&gt;</th><th scope=col>&lt;dbl&gt;</th><th scope=col>&lt;dbl&gt;</th><th scope=col>&lt;dbl&gt;</th><th scope=col>&lt;dbl&gt;</th><th scope=col>&lt;dttm&gt;</th></tr>\n",
       "</thead>\n",
       "<tbody>\n",
       "\t<tr><td>2013</td><td>1</td><td>1</td><td>517</td><td>515</td><td> 2</td><td> 830</td><td> 819</td><td> 11</td><td>UA</td><td>1545</td><td>N14228</td><td>EWR</td><td>IAH</td><td>227</td><td>1400</td><td>5</td><td>15</td><td>2013-01-01 05:00:00</td></tr>\n",
       "\t<tr><td>2013</td><td>1</td><td>1</td><td>533</td><td>529</td><td> 4</td><td> 850</td><td> 830</td><td> 20</td><td>UA</td><td>1714</td><td>N24211</td><td>LGA</td><td>IAH</td><td>227</td><td>1416</td><td>5</td><td>29</td><td>2013-01-01 05:00:00</td></tr>\n",
       "\t<tr><td>2013</td><td>1</td><td>1</td><td>542</td><td>540</td><td> 2</td><td> 923</td><td> 850</td><td> 33</td><td>AA</td><td>1141</td><td>N619AA</td><td>JFK</td><td>MIA</td><td>160</td><td>1089</td><td>5</td><td>40</td><td>2013-01-01 05:00:00</td></tr>\n",
       "\t<tr><td>2013</td><td>1</td><td>1</td><td>544</td><td>545</td><td>-1</td><td>1004</td><td>1022</td><td>-18</td><td>B6</td><td> 725</td><td>N804JB</td><td>JFK</td><td>BQN</td><td>183</td><td>1576</td><td>5</td><td>45</td><td>2013-01-01 05:00:00</td></tr>\n",
       "\t<tr><td>2013</td><td>1</td><td>1</td><td>554</td><td>600</td><td>-6</td><td> 812</td><td> 837</td><td>-25</td><td>DL</td><td> 461</td><td>N668DN</td><td>LGA</td><td>ATL</td><td>116</td><td> 762</td><td>6</td><td> 0</td><td>2013-01-01 06:00:00</td></tr>\n",
       "\t<tr><td>2013</td><td>1</td><td>1</td><td>554</td><td>558</td><td>-4</td><td> 740</td><td> 728</td><td> 12</td><td>UA</td><td>1696</td><td>N39463</td><td>EWR</td><td>ORD</td><td>150</td><td> 719</td><td>5</td><td>58</td><td>2013-01-01 05:00:00</td></tr>\n",
       "</tbody>\n",
       "</table>\n"
      ],
      "text/latex": [
       "A tibble: 6 × 19\n",
       "\\begin{tabular}{lllllllllllllllllll}\n",
       " year & month & day & dep\\_time & sched\\_dep\\_time & dep\\_delay & arr\\_time & sched\\_arr\\_time & arr\\_delay & carrier & flight & tailnum & origin & dest & air\\_time & distance & hour & minute & time\\_hour\\\\\n",
       " <int> & <int> & <int> & <int> & <int> & <dbl> & <int> & <int> & <dbl> & <chr> & <int> & <chr> & <chr> & <chr> & <dbl> & <dbl> & <dbl> & <dbl> & <dttm>\\\\\n",
       "\\hline\n",
       "\t 2013 & 1 & 1 & 517 & 515 &  2 &  830 &  819 &  11 & UA & 1545 & N14228 & EWR & IAH & 227 & 1400 & 5 & 15 & 2013-01-01 05:00:00\\\\\n",
       "\t 2013 & 1 & 1 & 533 & 529 &  4 &  850 &  830 &  20 & UA & 1714 & N24211 & LGA & IAH & 227 & 1416 & 5 & 29 & 2013-01-01 05:00:00\\\\\n",
       "\t 2013 & 1 & 1 & 542 & 540 &  2 &  923 &  850 &  33 & AA & 1141 & N619AA & JFK & MIA & 160 & 1089 & 5 & 40 & 2013-01-01 05:00:00\\\\\n",
       "\t 2013 & 1 & 1 & 544 & 545 & -1 & 1004 & 1022 & -18 & B6 &  725 & N804JB & JFK & BQN & 183 & 1576 & 5 & 45 & 2013-01-01 05:00:00\\\\\n",
       "\t 2013 & 1 & 1 & 554 & 600 & -6 &  812 &  837 & -25 & DL &  461 & N668DN & LGA & ATL & 116 &  762 & 6 &  0 & 2013-01-01 06:00:00\\\\\n",
       "\t 2013 & 1 & 1 & 554 & 558 & -4 &  740 &  728 &  12 & UA & 1696 & N39463 & EWR & ORD & 150 &  719 & 5 & 58 & 2013-01-01 05:00:00\\\\\n",
       "\\end{tabular}\n"
      ],
      "text/markdown": [
       "\n",
       "A tibble: 6 × 19\n",
       "\n",
       "| year &lt;int&gt; | month &lt;int&gt; | day &lt;int&gt; | dep_time &lt;int&gt; | sched_dep_time &lt;int&gt; | dep_delay &lt;dbl&gt; | arr_time &lt;int&gt; | sched_arr_time &lt;int&gt; | arr_delay &lt;dbl&gt; | carrier &lt;chr&gt; | flight &lt;int&gt; | tailnum &lt;chr&gt; | origin &lt;chr&gt; | dest &lt;chr&gt; | air_time &lt;dbl&gt; | distance &lt;dbl&gt; | hour &lt;dbl&gt; | minute &lt;dbl&gt; | time_hour &lt;dttm&gt; |\n",
       "|---|---|---|---|---|---|---|---|---|---|---|---|---|---|---|---|---|---|---|\n",
       "| 2013 | 1 | 1 | 517 | 515 |  2 |  830 |  819 |  11 | UA | 1545 | N14228 | EWR | IAH | 227 | 1400 | 5 | 15 | 2013-01-01 05:00:00 |\n",
       "| 2013 | 1 | 1 | 533 | 529 |  4 |  850 |  830 |  20 | UA | 1714 | N24211 | LGA | IAH | 227 | 1416 | 5 | 29 | 2013-01-01 05:00:00 |\n",
       "| 2013 | 1 | 1 | 542 | 540 |  2 |  923 |  850 |  33 | AA | 1141 | N619AA | JFK | MIA | 160 | 1089 | 5 | 40 | 2013-01-01 05:00:00 |\n",
       "| 2013 | 1 | 1 | 544 | 545 | -1 | 1004 | 1022 | -18 | B6 |  725 | N804JB | JFK | BQN | 183 | 1576 | 5 | 45 | 2013-01-01 05:00:00 |\n",
       "| 2013 | 1 | 1 | 554 | 600 | -6 |  812 |  837 | -25 | DL |  461 | N668DN | LGA | ATL | 116 |  762 | 6 |  0 | 2013-01-01 06:00:00 |\n",
       "| 2013 | 1 | 1 | 554 | 558 | -4 |  740 |  728 |  12 | UA | 1696 | N39463 | EWR | ORD | 150 |  719 | 5 | 58 | 2013-01-01 05:00:00 |\n",
       "\n"
      ],
      "text/plain": [
       "  year month day dep_time sched_dep_time dep_delay arr_time sched_arr_time\n",
       "1 2013 1     1   517      515             2         830      819          \n",
       "2 2013 1     1   533      529             4         850      830          \n",
       "3 2013 1     1   542      540             2         923      850          \n",
       "4 2013 1     1   544      545            -1        1004     1022          \n",
       "5 2013 1     1   554      600            -6         812      837          \n",
       "6 2013 1     1   554      558            -4         740      728          \n",
       "  arr_delay carrier flight tailnum origin dest air_time distance hour minute\n",
       "1  11       UA      1545   N14228  EWR    IAH  227      1400     5    15    \n",
       "2  20       UA      1714   N24211  LGA    IAH  227      1416     5    29    \n",
       "3  33       AA      1141   N619AA  JFK    MIA  160      1089     5    40    \n",
       "4 -18       B6       725   N804JB  JFK    BQN  183      1576     5    45    \n",
       "5 -25       DL       461   N668DN  LGA    ATL  116       762     6     0    \n",
       "6  12       UA      1696   N39463  EWR    ORD  150       719     5    58    \n",
       "  time_hour          \n",
       "1 2013-01-01 05:00:00\n",
       "2 2013-01-01 05:00:00\n",
       "3 2013-01-01 05:00:00\n",
       "4 2013-01-01 05:00:00\n",
       "5 2013-01-01 06:00:00\n",
       "6 2013-01-01 05:00:00"
      ]
     },
     "metadata": {},
     "output_type": "display_data"
    }
   ],
   "source": [
    "library(dplyr)\n",
    "library(nycflights13)\n",
    "\n",
    "data(flights) # 载入数据集\n",
    "head(flights)"
   ]
  },
  {
   "cell_type": "markdown",
   "metadata": {},
   "source": [
    "### 7.1 filter (按条件筛选)\n",
    "\n",
    "- 根据条件选择特定的行。"
   ]
  },
  {
   "cell_type": "code",
   "execution_count": 8,
   "metadata": {
    "vscode": {
     "languageId": "r"
    }
   },
   "outputs": [
    {
     "data": {
      "text/html": [
       "<table class=\"dataframe\">\n",
       "<caption>A tibble: 842 × 19</caption>\n",
       "<thead>\n",
       "\t<tr><th scope=col>year</th><th scope=col>month</th><th scope=col>day</th><th scope=col>dep_time</th><th scope=col>⋯</th><th scope=col>distance</th><th scope=col>hour</th><th scope=col>minute</th><th scope=col>time_hour</th></tr>\n",
       "\t<tr><th scope=col>&lt;int&gt;</th><th scope=col>&lt;int&gt;</th><th scope=col>&lt;int&gt;</th><th scope=col>&lt;int&gt;</th><th scope=col>⋯</th><th scope=col>&lt;dbl&gt;</th><th scope=col>&lt;dbl&gt;</th><th scope=col>&lt;dbl&gt;</th><th scope=col>&lt;dttm&gt;</th></tr>\n",
       "</thead>\n",
       "<tbody>\n",
       "\t<tr><td>2013</td><td>1</td><td>1</td><td>517</td><td>⋯</td><td>1400</td><td>5</td><td>15</td><td>2013-01-01 05:00:00</td></tr>\n",
       "\t<tr><td>2013</td><td>1</td><td>1</td><td>533</td><td>⋯</td><td>1416</td><td>5</td><td>29</td><td>2013-01-01 05:00:00</td></tr>\n",
       "\t<tr><td>2013</td><td>1</td><td>1</td><td>542</td><td>⋯</td><td>1089</td><td>5</td><td>40</td><td>2013-01-01 05:00:00</td></tr>\n",
       "\t<tr><td>2013</td><td>1</td><td>1</td><td>544</td><td>⋯</td><td>1576</td><td>5</td><td>45</td><td>2013-01-01 05:00:00</td></tr>\n",
       "\t<tr><td>2013</td><td>1</td><td>1</td><td>554</td><td>⋯</td><td> 762</td><td>6</td><td> 0</td><td>2013-01-01 06:00:00</td></tr>\n",
       "\t<tr><td>2013</td><td>1</td><td>1</td><td>554</td><td>⋯</td><td> 719</td><td>5</td><td>58</td><td>2013-01-01 05:00:00</td></tr>\n",
       "\t<tr><td>2013</td><td>1</td><td>1</td><td>555</td><td>⋯</td><td>1065</td><td>6</td><td> 0</td><td>2013-01-01 06:00:00</td></tr>\n",
       "\t<tr><td>⋮</td><td>⋮</td><td>⋮</td><td>⋮</td><td>⋱</td><td>⋮</td><td>⋮</td><td>⋮</td><td>⋮</td></tr>\n",
       "\t<tr><td>2013</td><td>1</td><td>1</td><td>2353</td><td>⋯</td><td>1617</td><td>23</td><td>59</td><td>2013-01-01 23:00:00</td></tr>\n",
       "\t<tr><td>2013</td><td>1</td><td>1</td><td>2353</td><td>⋯</td><td>1598</td><td>23</td><td>59</td><td>2013-01-01 23:00:00</td></tr>\n",
       "\t<tr><td>2013</td><td>1</td><td>1</td><td>2356</td><td>⋯</td><td>1576</td><td>23</td><td>59</td><td>2013-01-01 23:00:00</td></tr>\n",
       "\t<tr><td>2013</td><td>1</td><td>1</td><td>  NA</td><td>⋯</td><td> 416</td><td>16</td><td>30</td><td>2013-01-01 16:00:00</td></tr>\n",
       "\t<tr><td>2013</td><td>1</td><td>1</td><td>  NA</td><td>⋯</td><td>1389</td><td>19</td><td>35</td><td>2013-01-01 19:00:00</td></tr>\n",
       "\t<tr><td>2013</td><td>1</td><td>1</td><td>  NA</td><td>⋯</td><td>1096</td><td>15</td><td> 0</td><td>2013-01-01 15:00:00</td></tr>\n",
       "\t<tr><td>2013</td><td>1</td><td>1</td><td>  NA</td><td>⋯</td><td>1069</td><td> 6</td><td> 0</td><td>2013-01-01 06:00:00</td></tr>\n",
       "</tbody>\n",
       "</table>\n"
      ],
      "text/latex": [
       "A tibble: 842 × 19\n",
       "\\begin{tabular}{lllllllll}\n",
       " year & month & day & dep\\_time & ⋯ & distance & hour & minute & time\\_hour\\\\\n",
       " <int> & <int> & <int> & <int> & ⋯ & <dbl> & <dbl> & <dbl> & <dttm>\\\\\n",
       "\\hline\n",
       "\t 2013 & 1 & 1 & 517 & ⋯ & 1400 & 5 & 15 & 2013-01-01 05:00:00\\\\\n",
       "\t 2013 & 1 & 1 & 533 & ⋯ & 1416 & 5 & 29 & 2013-01-01 05:00:00\\\\\n",
       "\t 2013 & 1 & 1 & 542 & ⋯ & 1089 & 5 & 40 & 2013-01-01 05:00:00\\\\\n",
       "\t 2013 & 1 & 1 & 544 & ⋯ & 1576 & 5 & 45 & 2013-01-01 05:00:00\\\\\n",
       "\t 2013 & 1 & 1 & 554 & ⋯ &  762 & 6 &  0 & 2013-01-01 06:00:00\\\\\n",
       "\t 2013 & 1 & 1 & 554 & ⋯ &  719 & 5 & 58 & 2013-01-01 05:00:00\\\\\n",
       "\t 2013 & 1 & 1 & 555 & ⋯ & 1065 & 6 &  0 & 2013-01-01 06:00:00\\\\\n",
       "\t ⋮ & ⋮ & ⋮ & ⋮ & ⋱ & ⋮ & ⋮ & ⋮ & ⋮\\\\\n",
       "\t 2013 & 1 & 1 & 2353 & ⋯ & 1617 & 23 & 59 & 2013-01-01 23:00:00\\\\\n",
       "\t 2013 & 1 & 1 & 2353 & ⋯ & 1598 & 23 & 59 & 2013-01-01 23:00:00\\\\\n",
       "\t 2013 & 1 & 1 & 2356 & ⋯ & 1576 & 23 & 59 & 2013-01-01 23:00:00\\\\\n",
       "\t 2013 & 1 & 1 &   NA & ⋯ &  416 & 16 & 30 & 2013-01-01 16:00:00\\\\\n",
       "\t 2013 & 1 & 1 &   NA & ⋯ & 1389 & 19 & 35 & 2013-01-01 19:00:00\\\\\n",
       "\t 2013 & 1 & 1 &   NA & ⋯ & 1096 & 15 &  0 & 2013-01-01 15:00:00\\\\\n",
       "\t 2013 & 1 & 1 &   NA & ⋯ & 1069 &  6 &  0 & 2013-01-01 06:00:00\\\\\n",
       "\\end{tabular}\n"
      ],
      "text/markdown": [
       "\n",
       "A tibble: 842 × 19\n",
       "\n",
       "| year &lt;int&gt; | month &lt;int&gt; | day &lt;int&gt; | dep_time &lt;int&gt; | ⋯ ⋯ | distance &lt;dbl&gt; | hour &lt;dbl&gt; | minute &lt;dbl&gt; | time_hour &lt;dttm&gt; |\n",
       "|---|---|---|---|---|---|---|---|---|\n",
       "| 2013 | 1 | 1 | 517 | ⋯ | 1400 | 5 | 15 | 2013-01-01 05:00:00 |\n",
       "| 2013 | 1 | 1 | 533 | ⋯ | 1416 | 5 | 29 | 2013-01-01 05:00:00 |\n",
       "| 2013 | 1 | 1 | 542 | ⋯ | 1089 | 5 | 40 | 2013-01-01 05:00:00 |\n",
       "| 2013 | 1 | 1 | 544 | ⋯ | 1576 | 5 | 45 | 2013-01-01 05:00:00 |\n",
       "| 2013 | 1 | 1 | 554 | ⋯ |  762 | 6 |  0 | 2013-01-01 06:00:00 |\n",
       "| 2013 | 1 | 1 | 554 | ⋯ |  719 | 5 | 58 | 2013-01-01 05:00:00 |\n",
       "| 2013 | 1 | 1 | 555 | ⋯ | 1065 | 6 |  0 | 2013-01-01 06:00:00 |\n",
       "| ⋮ | ⋮ | ⋮ | ⋮ | ⋱ | ⋮ | ⋮ | ⋮ | ⋮ |\n",
       "| 2013 | 1 | 1 | 2353 | ⋯ | 1617 | 23 | 59 | 2013-01-01 23:00:00 |\n",
       "| 2013 | 1 | 1 | 2353 | ⋯ | 1598 | 23 | 59 | 2013-01-01 23:00:00 |\n",
       "| 2013 | 1 | 1 | 2356 | ⋯ | 1576 | 23 | 59 | 2013-01-01 23:00:00 |\n",
       "| 2013 | 1 | 1 |   NA | ⋯ |  416 | 16 | 30 | 2013-01-01 16:00:00 |\n",
       "| 2013 | 1 | 1 |   NA | ⋯ | 1389 | 19 | 35 | 2013-01-01 19:00:00 |\n",
       "| 2013 | 1 | 1 |   NA | ⋯ | 1096 | 15 |  0 | 2013-01-01 15:00:00 |\n",
       "| 2013 | 1 | 1 |   NA | ⋯ | 1069 |  6 |  0 | 2013-01-01 06:00:00 |\n",
       "\n"
      ],
      "text/plain": [
       "    year month day dep_time ⋯ distance hour minute time_hour          \n",
       "1   2013 1     1   517      ⋯ 1400     5    15     2013-01-01 05:00:00\n",
       "2   2013 1     1   533      ⋯ 1416     5    29     2013-01-01 05:00:00\n",
       "3   2013 1     1   542      ⋯ 1089     5    40     2013-01-01 05:00:00\n",
       "4   2013 1     1   544      ⋯ 1576     5    45     2013-01-01 05:00:00\n",
       "5   2013 1     1   554      ⋯  762     6     0     2013-01-01 06:00:00\n",
       "6   2013 1     1   554      ⋯  719     5    58     2013-01-01 05:00:00\n",
       "7   2013 1     1   555      ⋯ 1065     6     0     2013-01-01 06:00:00\n",
       "⋮   ⋮    ⋮     ⋮   ⋮        ⋱ ⋮        ⋮    ⋮      ⋮                  \n",
       "836 2013 1     1   2353     ⋯ 1617     23   59     2013-01-01 23:00:00\n",
       "837 2013 1     1   2353     ⋯ 1598     23   59     2013-01-01 23:00:00\n",
       "838 2013 1     1   2356     ⋯ 1576     23   59     2013-01-01 23:00:00\n",
       "839 2013 1     1     NA     ⋯  416     16   30     2013-01-01 16:00:00\n",
       "840 2013 1     1     NA     ⋯ 1389     19   35     2013-01-01 19:00:00\n",
       "841 2013 1     1     NA     ⋯ 1096     15    0     2013-01-01 15:00:00\n",
       "842 2013 1     1     NA     ⋯ 1069      6    0     2013-01-01 06:00:00"
      ]
     },
     "metadata": {},
     "output_type": "display_data"
    }
   ],
   "source": [
    "# 设置HTML表格显示行数\n",
    "options(repr.matrix.max.rows = 14) # 设置显示的最大行数\n",
    "options(repr.matrix.max.cols = 8)  # 设置显示的最大列数（可选）\n",
    "\n",
    "filter(flights, month == 1, day == 1)"
   ]
  },
  {
   "cell_type": "markdown",
   "metadata": {},
   "source": [
    "### 7.2 select (选择特定列)\n",
    "- 选择特定的列。"
   ]
  },
  {
   "cell_type": "code",
   "execution_count": 9,
   "metadata": {
    "vscode": {
     "languageId": "r"
    }
   },
   "outputs": [
    {
     "data": {
      "text/html": [
       "<table class=\"dataframe\">\n",
       "<caption>A tibble: 336776 × 3</caption>\n",
       "<thead>\n",
       "\t<tr><th scope=col>year</th><th scope=col>month</th><th scope=col>day</th></tr>\n",
       "\t<tr><th scope=col>&lt;int&gt;</th><th scope=col>&lt;int&gt;</th><th scope=col>&lt;int&gt;</th></tr>\n",
       "</thead>\n",
       "<tbody>\n",
       "\t<tr><td>2013</td><td>1</td><td>1</td></tr>\n",
       "\t<tr><td>2013</td><td>1</td><td>1</td></tr>\n",
       "\t<tr><td>2013</td><td>1</td><td>1</td></tr>\n",
       "\t<tr><td>2013</td><td>1</td><td>1</td></tr>\n",
       "\t<tr><td>2013</td><td>1</td><td>1</td></tr>\n",
       "\t<tr><td>2013</td><td>1</td><td>1</td></tr>\n",
       "\t<tr><td>2013</td><td>1</td><td>1</td></tr>\n",
       "\t<tr><td>⋮</td><td>⋮</td><td>⋮</td></tr>\n",
       "\t<tr><td>2013</td><td>9</td><td>30</td></tr>\n",
       "\t<tr><td>2013</td><td>9</td><td>30</td></tr>\n",
       "\t<tr><td>2013</td><td>9</td><td>30</td></tr>\n",
       "\t<tr><td>2013</td><td>9</td><td>30</td></tr>\n",
       "\t<tr><td>2013</td><td>9</td><td>30</td></tr>\n",
       "\t<tr><td>2013</td><td>9</td><td>30</td></tr>\n",
       "\t<tr><td>2013</td><td>9</td><td>30</td></tr>\n",
       "</tbody>\n",
       "</table>\n"
      ],
      "text/latex": [
       "A tibble: 336776 × 3\n",
       "\\begin{tabular}{lll}\n",
       " year & month & day\\\\\n",
       " <int> & <int> & <int>\\\\\n",
       "\\hline\n",
       "\t 2013 & 1 & 1\\\\\n",
       "\t 2013 & 1 & 1\\\\\n",
       "\t 2013 & 1 & 1\\\\\n",
       "\t 2013 & 1 & 1\\\\\n",
       "\t 2013 & 1 & 1\\\\\n",
       "\t 2013 & 1 & 1\\\\\n",
       "\t 2013 & 1 & 1\\\\\n",
       "\t ⋮ & ⋮ & ⋮\\\\\n",
       "\t 2013 & 9 & 30\\\\\n",
       "\t 2013 & 9 & 30\\\\\n",
       "\t 2013 & 9 & 30\\\\\n",
       "\t 2013 & 9 & 30\\\\\n",
       "\t 2013 & 9 & 30\\\\\n",
       "\t 2013 & 9 & 30\\\\\n",
       "\t 2013 & 9 & 30\\\\\n",
       "\\end{tabular}\n"
      ],
      "text/markdown": [
       "\n",
       "A tibble: 336776 × 3\n",
       "\n",
       "| year &lt;int&gt; | month &lt;int&gt; | day &lt;int&gt; |\n",
       "|---|---|---|\n",
       "| 2013 | 1 | 1 |\n",
       "| 2013 | 1 | 1 |\n",
       "| 2013 | 1 | 1 |\n",
       "| 2013 | 1 | 1 |\n",
       "| 2013 | 1 | 1 |\n",
       "| 2013 | 1 | 1 |\n",
       "| 2013 | 1 | 1 |\n",
       "| ⋮ | ⋮ | ⋮ |\n",
       "| 2013 | 9 | 30 |\n",
       "| 2013 | 9 | 30 |\n",
       "| 2013 | 9 | 30 |\n",
       "| 2013 | 9 | 30 |\n",
       "| 2013 | 9 | 30 |\n",
       "| 2013 | 9 | 30 |\n",
       "| 2013 | 9 | 30 |\n",
       "\n"
      ],
      "text/plain": [
       "       year month day\n",
       "1      2013 1     1  \n",
       "2      2013 1     1  \n",
       "3      2013 1     1  \n",
       "4      2013 1     1  \n",
       "5      2013 1     1  \n",
       "6      2013 1     1  \n",
       "7      2013 1     1  \n",
       "⋮      ⋮    ⋮     ⋮  \n",
       "336770 2013 9     30 \n",
       "336771 2013 9     30 \n",
       "336772 2013 9     30 \n",
       "336773 2013 9     30 \n",
       "336774 2013 9     30 \n",
       "336775 2013 9     30 \n",
       "336776 2013 9     30 "
      ]
     },
     "metadata": {},
     "output_type": "display_data"
    }
   ],
   "source": [
    "select(flights, year, month, day)"
   ]
  },
  {
   "cell_type": "markdown",
   "metadata": {},
   "source": [
    "### 7.3 mutate (添加新列)\n",
    "- 添加新列（可从已有列的数据中创建）。"
   ]
  },
  {
   "cell_type": "code",
   "execution_count": 10,
   "metadata": {
    "vscode": {
     "languageId": "r"
    }
   },
   "outputs": [
    {
     "data": {
      "text/html": [
       "<table class=\"dataframe\">\n",
       "<caption>A tibble: 336776 × 21</caption>\n",
       "<thead>\n",
       "\t<tr><th scope=col>year</th><th scope=col>month</th><th scope=col>day</th><th scope=col>dep_time</th><th scope=col>⋯</th><th scope=col>minute</th><th scope=col>time_hour</th><th scope=col>gain</th><th scope=col>speed</th></tr>\n",
       "\t<tr><th scope=col>&lt;int&gt;</th><th scope=col>&lt;int&gt;</th><th scope=col>&lt;int&gt;</th><th scope=col>&lt;int&gt;</th><th scope=col>⋯</th><th scope=col>&lt;dbl&gt;</th><th scope=col>&lt;dttm&gt;</th><th scope=col>&lt;dbl&gt;</th><th scope=col>&lt;dbl&gt;</th></tr>\n",
       "</thead>\n",
       "<tbody>\n",
       "\t<tr><td>2013</td><td>1</td><td>1</td><td>517</td><td>⋯</td><td>15</td><td>2013-01-01 05:00:00</td><td>  9</td><td>370.0441</td></tr>\n",
       "\t<tr><td>2013</td><td>1</td><td>1</td><td>533</td><td>⋯</td><td>29</td><td>2013-01-01 05:00:00</td><td> 16</td><td>374.2731</td></tr>\n",
       "\t<tr><td>2013</td><td>1</td><td>1</td><td>542</td><td>⋯</td><td>40</td><td>2013-01-01 05:00:00</td><td> 31</td><td>408.3750</td></tr>\n",
       "\t<tr><td>2013</td><td>1</td><td>1</td><td>544</td><td>⋯</td><td>45</td><td>2013-01-01 05:00:00</td><td>-17</td><td>516.7213</td></tr>\n",
       "\t<tr><td>2013</td><td>1</td><td>1</td><td>554</td><td>⋯</td><td> 0</td><td>2013-01-01 06:00:00</td><td>-19</td><td>394.1379</td></tr>\n",
       "\t<tr><td>2013</td><td>1</td><td>1</td><td>554</td><td>⋯</td><td>58</td><td>2013-01-01 05:00:00</td><td> 16</td><td>287.6000</td></tr>\n",
       "\t<tr><td>2013</td><td>1</td><td>1</td><td>555</td><td>⋯</td><td> 0</td><td>2013-01-01 06:00:00</td><td> 24</td><td>404.4304</td></tr>\n",
       "\t<tr><td>⋮</td><td>⋮</td><td>⋮</td><td>⋮</td><td>⋱</td><td>⋮</td><td>⋮</td><td>⋮</td><td>⋮</td></tr>\n",
       "\t<tr><td>2013</td><td>9</td><td>30</td><td>2349</td><td>⋯</td><td>59</td><td>2013-09-30 23:00:00</td><td>-15</td><td>495</td></tr>\n",
       "\t<tr><td>2013</td><td>9</td><td>30</td><td>  NA</td><td>⋯</td><td>42</td><td>2013-09-30 18:00:00</td><td> NA</td><td> NA</td></tr>\n",
       "\t<tr><td>2013</td><td>9</td><td>30</td><td>  NA</td><td>⋯</td><td>55</td><td>2013-09-30 14:00:00</td><td> NA</td><td> NA</td></tr>\n",
       "\t<tr><td>2013</td><td>9</td><td>30</td><td>  NA</td><td>⋯</td><td> 0</td><td>2013-09-30 22:00:00</td><td> NA</td><td> NA</td></tr>\n",
       "\t<tr><td>2013</td><td>9</td><td>30</td><td>  NA</td><td>⋯</td><td>10</td><td>2013-09-30 12:00:00</td><td> NA</td><td> NA</td></tr>\n",
       "\t<tr><td>2013</td><td>9</td><td>30</td><td>  NA</td><td>⋯</td><td>59</td><td>2013-09-30 11:00:00</td><td> NA</td><td> NA</td></tr>\n",
       "\t<tr><td>2013</td><td>9</td><td>30</td><td>  NA</td><td>⋯</td><td>40</td><td>2013-09-30 08:00:00</td><td> NA</td><td> NA</td></tr>\n",
       "</tbody>\n",
       "</table>\n"
      ],
      "text/latex": [
       "A tibble: 336776 × 21\n",
       "\\begin{tabular}{lllllllll}\n",
       " year & month & day & dep\\_time & ⋯ & minute & time\\_hour & gain & speed\\\\\n",
       " <int> & <int> & <int> & <int> & ⋯ & <dbl> & <dttm> & <dbl> & <dbl>\\\\\n",
       "\\hline\n",
       "\t 2013 & 1 & 1 & 517 & ⋯ & 15 & 2013-01-01 05:00:00 &   9 & 370.0441\\\\\n",
       "\t 2013 & 1 & 1 & 533 & ⋯ & 29 & 2013-01-01 05:00:00 &  16 & 374.2731\\\\\n",
       "\t 2013 & 1 & 1 & 542 & ⋯ & 40 & 2013-01-01 05:00:00 &  31 & 408.3750\\\\\n",
       "\t 2013 & 1 & 1 & 544 & ⋯ & 45 & 2013-01-01 05:00:00 & -17 & 516.7213\\\\\n",
       "\t 2013 & 1 & 1 & 554 & ⋯ &  0 & 2013-01-01 06:00:00 & -19 & 394.1379\\\\\n",
       "\t 2013 & 1 & 1 & 554 & ⋯ & 58 & 2013-01-01 05:00:00 &  16 & 287.6000\\\\\n",
       "\t 2013 & 1 & 1 & 555 & ⋯ &  0 & 2013-01-01 06:00:00 &  24 & 404.4304\\\\\n",
       "\t ⋮ & ⋮ & ⋮ & ⋮ & ⋱ & ⋮ & ⋮ & ⋮ & ⋮\\\\\n",
       "\t 2013 & 9 & 30 & 2349 & ⋯ & 59 & 2013-09-30 23:00:00 & -15 & 495\\\\\n",
       "\t 2013 & 9 & 30 &   NA & ⋯ & 42 & 2013-09-30 18:00:00 &  NA &  NA\\\\\n",
       "\t 2013 & 9 & 30 &   NA & ⋯ & 55 & 2013-09-30 14:00:00 &  NA &  NA\\\\\n",
       "\t 2013 & 9 & 30 &   NA & ⋯ &  0 & 2013-09-30 22:00:00 &  NA &  NA\\\\\n",
       "\t 2013 & 9 & 30 &   NA & ⋯ & 10 & 2013-09-30 12:00:00 &  NA &  NA\\\\\n",
       "\t 2013 & 9 & 30 &   NA & ⋯ & 59 & 2013-09-30 11:00:00 &  NA &  NA\\\\\n",
       "\t 2013 & 9 & 30 &   NA & ⋯ & 40 & 2013-09-30 08:00:00 &  NA &  NA\\\\\n",
       "\\end{tabular}\n"
      ],
      "text/markdown": [
       "\n",
       "A tibble: 336776 × 21\n",
       "\n",
       "| year &lt;int&gt; | month &lt;int&gt; | day &lt;int&gt; | dep_time &lt;int&gt; | ⋯ ⋯ | minute &lt;dbl&gt; | time_hour &lt;dttm&gt; | gain &lt;dbl&gt; | speed &lt;dbl&gt; |\n",
       "|---|---|---|---|---|---|---|---|---|\n",
       "| 2013 | 1 | 1 | 517 | ⋯ | 15 | 2013-01-01 05:00:00 |   9 | 370.0441 |\n",
       "| 2013 | 1 | 1 | 533 | ⋯ | 29 | 2013-01-01 05:00:00 |  16 | 374.2731 |\n",
       "| 2013 | 1 | 1 | 542 | ⋯ | 40 | 2013-01-01 05:00:00 |  31 | 408.3750 |\n",
       "| 2013 | 1 | 1 | 544 | ⋯ | 45 | 2013-01-01 05:00:00 | -17 | 516.7213 |\n",
       "| 2013 | 1 | 1 | 554 | ⋯ |  0 | 2013-01-01 06:00:00 | -19 | 394.1379 |\n",
       "| 2013 | 1 | 1 | 554 | ⋯ | 58 | 2013-01-01 05:00:00 |  16 | 287.6000 |\n",
       "| 2013 | 1 | 1 | 555 | ⋯ |  0 | 2013-01-01 06:00:00 |  24 | 404.4304 |\n",
       "| ⋮ | ⋮ | ⋮ | ⋮ | ⋱ | ⋮ | ⋮ | ⋮ | ⋮ |\n",
       "| 2013 | 9 | 30 | 2349 | ⋯ | 59 | 2013-09-30 23:00:00 | -15 | 495 |\n",
       "| 2013 | 9 | 30 |   NA | ⋯ | 42 | 2013-09-30 18:00:00 |  NA |  NA |\n",
       "| 2013 | 9 | 30 |   NA | ⋯ | 55 | 2013-09-30 14:00:00 |  NA |  NA |\n",
       "| 2013 | 9 | 30 |   NA | ⋯ |  0 | 2013-09-30 22:00:00 |  NA |  NA |\n",
       "| 2013 | 9 | 30 |   NA | ⋯ | 10 | 2013-09-30 12:00:00 |  NA |  NA |\n",
       "| 2013 | 9 | 30 |   NA | ⋯ | 59 | 2013-09-30 11:00:00 |  NA |  NA |\n",
       "| 2013 | 9 | 30 |   NA | ⋯ | 40 | 2013-09-30 08:00:00 |  NA |  NA |\n",
       "\n"
      ],
      "text/plain": [
       "       year month day dep_time ⋯ minute time_hour           gain speed   \n",
       "1      2013 1     1   517      ⋯ 15     2013-01-01 05:00:00   9  370.0441\n",
       "2      2013 1     1   533      ⋯ 29     2013-01-01 05:00:00  16  374.2731\n",
       "3      2013 1     1   542      ⋯ 40     2013-01-01 05:00:00  31  408.3750\n",
       "4      2013 1     1   544      ⋯ 45     2013-01-01 05:00:00 -17  516.7213\n",
       "5      2013 1     1   554      ⋯  0     2013-01-01 06:00:00 -19  394.1379\n",
       "6      2013 1     1   554      ⋯ 58     2013-01-01 05:00:00  16  287.6000\n",
       "7      2013 1     1   555      ⋯  0     2013-01-01 06:00:00  24  404.4304\n",
       "⋮      ⋮    ⋮     ⋮   ⋮        ⋱ ⋮      ⋮                   ⋮    ⋮       \n",
       "336770 2013 9     30  2349     ⋯ 59     2013-09-30 23:00:00 -15  495     \n",
       "336771 2013 9     30    NA     ⋯ 42     2013-09-30 18:00:00  NA   NA     \n",
       "336772 2013 9     30    NA     ⋯ 55     2013-09-30 14:00:00  NA   NA     \n",
       "336773 2013 9     30    NA     ⋯  0     2013-09-30 22:00:00  NA   NA     \n",
       "336774 2013 9     30    NA     ⋯ 10     2013-09-30 12:00:00  NA   NA     \n",
       "336775 2013 9     30    NA     ⋯ 59     2013-09-30 11:00:00  NA   NA     \n",
       "336776 2013 9     30    NA     ⋯ 40     2013-09-30 08:00:00  NA   NA     "
      ]
     },
     "metadata": {},
     "output_type": "display_data"
    }
   ],
   "source": [
    "mutate(flights,\n",
    "  gain = arr_delay - dep_delay,\n",
    "  speed = distance / air_time * 60\n",
    ")"
   ]
  },
  {
   "cell_type": "markdown",
   "metadata": {},
   "source": [
    "### 7.4 arrange (排序)\n",
    "- 根据列对数据框进行排序。"
   ]
  },
  {
   "cell_type": "code",
   "execution_count": 11,
   "metadata": {
    "vscode": {
     "languageId": "r"
    }
   },
   "outputs": [
    {
     "data": {
      "text/html": [
       "<table class=\"dataframe\">\n",
       "<caption>A tibble: 336776 × 19</caption>\n",
       "<thead>\n",
       "\t<tr><th scope=col>year</th><th scope=col>month</th><th scope=col>day</th><th scope=col>dep_time</th><th scope=col>⋯</th><th scope=col>distance</th><th scope=col>hour</th><th scope=col>minute</th><th scope=col>time_hour</th></tr>\n",
       "\t<tr><th scope=col>&lt;int&gt;</th><th scope=col>&lt;int&gt;</th><th scope=col>&lt;int&gt;</th><th scope=col>&lt;int&gt;</th><th scope=col>⋯</th><th scope=col>&lt;dbl&gt;</th><th scope=col>&lt;dbl&gt;</th><th scope=col>&lt;dbl&gt;</th><th scope=col>&lt;dttm&gt;</th></tr>\n",
       "</thead>\n",
       "<tbody>\n",
       "\t<tr><td>2013</td><td>1</td><td>1</td><td>517</td><td>⋯</td><td>1400</td><td>5</td><td>15</td><td>2013-01-01 05:00:00</td></tr>\n",
       "\t<tr><td>2013</td><td>1</td><td>1</td><td>533</td><td>⋯</td><td>1416</td><td>5</td><td>29</td><td>2013-01-01 05:00:00</td></tr>\n",
       "\t<tr><td>2013</td><td>1</td><td>1</td><td>542</td><td>⋯</td><td>1089</td><td>5</td><td>40</td><td>2013-01-01 05:00:00</td></tr>\n",
       "\t<tr><td>2013</td><td>1</td><td>1</td><td>544</td><td>⋯</td><td>1576</td><td>5</td><td>45</td><td>2013-01-01 05:00:00</td></tr>\n",
       "\t<tr><td>2013</td><td>1</td><td>1</td><td>554</td><td>⋯</td><td> 762</td><td>6</td><td> 0</td><td>2013-01-01 06:00:00</td></tr>\n",
       "\t<tr><td>2013</td><td>1</td><td>1</td><td>554</td><td>⋯</td><td> 719</td><td>5</td><td>58</td><td>2013-01-01 05:00:00</td></tr>\n",
       "\t<tr><td>2013</td><td>1</td><td>1</td><td>555</td><td>⋯</td><td>1065</td><td>6</td><td> 0</td><td>2013-01-01 06:00:00</td></tr>\n",
       "\t<tr><td>⋮</td><td>⋮</td><td>⋮</td><td>⋮</td><td>⋱</td><td>⋮</td><td>⋮</td><td>⋮</td><td>⋮</td></tr>\n",
       "\t<tr><td>2013</td><td>12</td><td>31</td><td>NA</td><td>⋯</td><td>2454</td><td>14</td><td>30</td><td>2013-12-31 14:00:00</td></tr>\n",
       "\t<tr><td>2013</td><td>12</td><td>31</td><td>NA</td><td>⋯</td><td>1874</td><td> 8</td><td>55</td><td>2013-12-31 08:00:00</td></tr>\n",
       "\t<tr><td>2013</td><td>12</td><td>31</td><td>NA</td><td>⋯</td><td>1605</td><td> 7</td><td> 5</td><td>2013-12-31 07:00:00</td></tr>\n",
       "\t<tr><td>2013</td><td>12</td><td>31</td><td>NA</td><td>⋯</td><td> 541</td><td> 8</td><td>25</td><td>2013-12-31 08:00:00</td></tr>\n",
       "\t<tr><td>2013</td><td>12</td><td>31</td><td>NA</td><td>⋯</td><td> 431</td><td>16</td><td>15</td><td>2013-12-31 16:00:00</td></tr>\n",
       "\t<tr><td>2013</td><td>12</td><td>31</td><td>NA</td><td>⋯</td><td> 719</td><td> 6</td><td> 0</td><td>2013-12-31 06:00:00</td></tr>\n",
       "\t<tr><td>2013</td><td>12</td><td>31</td><td>NA</td><td>⋯</td><td>2475</td><td> 8</td><td>30</td><td>2013-12-31 08:00:00</td></tr>\n",
       "</tbody>\n",
       "</table>\n"
      ],
      "text/latex": [
       "A tibble: 336776 × 19\n",
       "\\begin{tabular}{lllllllll}\n",
       " year & month & day & dep\\_time & ⋯ & distance & hour & minute & time\\_hour\\\\\n",
       " <int> & <int> & <int> & <int> & ⋯ & <dbl> & <dbl> & <dbl> & <dttm>\\\\\n",
       "\\hline\n",
       "\t 2013 & 1 & 1 & 517 & ⋯ & 1400 & 5 & 15 & 2013-01-01 05:00:00\\\\\n",
       "\t 2013 & 1 & 1 & 533 & ⋯ & 1416 & 5 & 29 & 2013-01-01 05:00:00\\\\\n",
       "\t 2013 & 1 & 1 & 542 & ⋯ & 1089 & 5 & 40 & 2013-01-01 05:00:00\\\\\n",
       "\t 2013 & 1 & 1 & 544 & ⋯ & 1576 & 5 & 45 & 2013-01-01 05:00:00\\\\\n",
       "\t 2013 & 1 & 1 & 554 & ⋯ &  762 & 6 &  0 & 2013-01-01 06:00:00\\\\\n",
       "\t 2013 & 1 & 1 & 554 & ⋯ &  719 & 5 & 58 & 2013-01-01 05:00:00\\\\\n",
       "\t 2013 & 1 & 1 & 555 & ⋯ & 1065 & 6 &  0 & 2013-01-01 06:00:00\\\\\n",
       "\t ⋮ & ⋮ & ⋮ & ⋮ & ⋱ & ⋮ & ⋮ & ⋮ & ⋮\\\\\n",
       "\t 2013 & 12 & 31 & NA & ⋯ & 2454 & 14 & 30 & 2013-12-31 14:00:00\\\\\n",
       "\t 2013 & 12 & 31 & NA & ⋯ & 1874 &  8 & 55 & 2013-12-31 08:00:00\\\\\n",
       "\t 2013 & 12 & 31 & NA & ⋯ & 1605 &  7 &  5 & 2013-12-31 07:00:00\\\\\n",
       "\t 2013 & 12 & 31 & NA & ⋯ &  541 &  8 & 25 & 2013-12-31 08:00:00\\\\\n",
       "\t 2013 & 12 & 31 & NA & ⋯ &  431 & 16 & 15 & 2013-12-31 16:00:00\\\\\n",
       "\t 2013 & 12 & 31 & NA & ⋯ &  719 &  6 &  0 & 2013-12-31 06:00:00\\\\\n",
       "\t 2013 & 12 & 31 & NA & ⋯ & 2475 &  8 & 30 & 2013-12-31 08:00:00\\\\\n",
       "\\end{tabular}\n"
      ],
      "text/markdown": [
       "\n",
       "A tibble: 336776 × 19\n",
       "\n",
       "| year &lt;int&gt; | month &lt;int&gt; | day &lt;int&gt; | dep_time &lt;int&gt; | ⋯ ⋯ | distance &lt;dbl&gt; | hour &lt;dbl&gt; | minute &lt;dbl&gt; | time_hour &lt;dttm&gt; |\n",
       "|---|---|---|---|---|---|---|---|---|\n",
       "| 2013 | 1 | 1 | 517 | ⋯ | 1400 | 5 | 15 | 2013-01-01 05:00:00 |\n",
       "| 2013 | 1 | 1 | 533 | ⋯ | 1416 | 5 | 29 | 2013-01-01 05:00:00 |\n",
       "| 2013 | 1 | 1 | 542 | ⋯ | 1089 | 5 | 40 | 2013-01-01 05:00:00 |\n",
       "| 2013 | 1 | 1 | 544 | ⋯ | 1576 | 5 | 45 | 2013-01-01 05:00:00 |\n",
       "| 2013 | 1 | 1 | 554 | ⋯ |  762 | 6 |  0 | 2013-01-01 06:00:00 |\n",
       "| 2013 | 1 | 1 | 554 | ⋯ |  719 | 5 | 58 | 2013-01-01 05:00:00 |\n",
       "| 2013 | 1 | 1 | 555 | ⋯ | 1065 | 6 |  0 | 2013-01-01 06:00:00 |\n",
       "| ⋮ | ⋮ | ⋮ | ⋮ | ⋱ | ⋮ | ⋮ | ⋮ | ⋮ |\n",
       "| 2013 | 12 | 31 | NA | ⋯ | 2454 | 14 | 30 | 2013-12-31 14:00:00 |\n",
       "| 2013 | 12 | 31 | NA | ⋯ | 1874 |  8 | 55 | 2013-12-31 08:00:00 |\n",
       "| 2013 | 12 | 31 | NA | ⋯ | 1605 |  7 |  5 | 2013-12-31 07:00:00 |\n",
       "| 2013 | 12 | 31 | NA | ⋯ |  541 |  8 | 25 | 2013-12-31 08:00:00 |\n",
       "| 2013 | 12 | 31 | NA | ⋯ |  431 | 16 | 15 | 2013-12-31 16:00:00 |\n",
       "| 2013 | 12 | 31 | NA | ⋯ |  719 |  6 |  0 | 2013-12-31 06:00:00 |\n",
       "| 2013 | 12 | 31 | NA | ⋯ | 2475 |  8 | 30 | 2013-12-31 08:00:00 |\n",
       "\n"
      ],
      "text/plain": [
       "       year month day dep_time ⋯ distance hour minute time_hour          \n",
       "1      2013 1     1   517      ⋯ 1400     5    15     2013-01-01 05:00:00\n",
       "2      2013 1     1   533      ⋯ 1416     5    29     2013-01-01 05:00:00\n",
       "3      2013 1     1   542      ⋯ 1089     5    40     2013-01-01 05:00:00\n",
       "4      2013 1     1   544      ⋯ 1576     5    45     2013-01-01 05:00:00\n",
       "5      2013 1     1   554      ⋯  762     6     0     2013-01-01 06:00:00\n",
       "6      2013 1     1   554      ⋯  719     5    58     2013-01-01 05:00:00\n",
       "7      2013 1     1   555      ⋯ 1065     6     0     2013-01-01 06:00:00\n",
       "⋮      ⋮    ⋮     ⋮   ⋮        ⋱ ⋮        ⋮    ⋮      ⋮                  \n",
       "336770 2013 12    31  NA       ⋯ 2454     14   30     2013-12-31 14:00:00\n",
       "336771 2013 12    31  NA       ⋯ 1874      8   55     2013-12-31 08:00:00\n",
       "336772 2013 12    31  NA       ⋯ 1605      7    5     2013-12-31 07:00:00\n",
       "336773 2013 12    31  NA       ⋯  541      8   25     2013-12-31 08:00:00\n",
       "336774 2013 12    31  NA       ⋯  431     16   15     2013-12-31 16:00:00\n",
       "336775 2013 12    31  NA       ⋯  719      6    0     2013-12-31 06:00:00\n",
       "336776 2013 12    31  NA       ⋯ 2475      8   30     2013-12-31 08:00:00"
      ]
     },
     "metadata": {},
     "output_type": "display_data"
    }
   ],
   "source": [
    "arrange(flights, year, month, day)"
   ]
  },
  {
   "cell_type": "markdown",
   "metadata": {},
   "source": [
    "**desc (降序排序)**\n",
    "\n",
    "- 使用 desc 按降序排序。"
   ]
  },
  {
   "cell_type": "code",
   "execution_count": 12,
   "metadata": {
    "vscode": {
     "languageId": "r"
    }
   },
   "outputs": [
    {
     "data": {
      "text/html": [
       "<table class=\"dataframe\">\n",
       "<caption>A tibble: 336776 × 4</caption>\n",
       "<thead>\n",
       "\t<tr><th scope=col>year</th><th scope=col>month</th><th scope=col>day</th><th scope=col>dep_delay</th></tr>\n",
       "\t<tr><th scope=col>&lt;int&gt;</th><th scope=col>&lt;int&gt;</th><th scope=col>&lt;int&gt;</th><th scope=col>&lt;dbl&gt;</th></tr>\n",
       "</thead>\n",
       "<tbody>\n",
       "\t<tr><td>2013</td><td>1</td><td> 9</td><td>1301</td></tr>\n",
       "\t<tr><td>2013</td><td>6</td><td>15</td><td>1137</td></tr>\n",
       "\t<tr><td>2013</td><td>1</td><td>10</td><td>1126</td></tr>\n",
       "\t<tr><td>2013</td><td>9</td><td>20</td><td>1014</td></tr>\n",
       "\t<tr><td>2013</td><td>7</td><td>22</td><td>1005</td></tr>\n",
       "\t<tr><td>2013</td><td>4</td><td>10</td><td> 960</td></tr>\n",
       "\t<tr><td>2013</td><td>3</td><td>17</td><td> 911</td></tr>\n",
       "\t<tr><td>⋮</td><td>⋮</td><td>⋮</td><td>⋮</td></tr>\n",
       "\t<tr><td>2013</td><td>9</td><td>29</td><td>NA</td></tr>\n",
       "\t<tr><td>2013</td><td>9</td><td>30</td><td>NA</td></tr>\n",
       "\t<tr><td>2013</td><td>9</td><td>30</td><td>NA</td></tr>\n",
       "\t<tr><td>2013</td><td>9</td><td>30</td><td>NA</td></tr>\n",
       "\t<tr><td>2013</td><td>9</td><td>30</td><td>NA</td></tr>\n",
       "\t<tr><td>2013</td><td>9</td><td>30</td><td>NA</td></tr>\n",
       "\t<tr><td>2013</td><td>9</td><td>30</td><td>NA</td></tr>\n",
       "</tbody>\n",
       "</table>\n"
      ],
      "text/latex": [
       "A tibble: 336776 × 4\n",
       "\\begin{tabular}{llll}\n",
       " year & month & day & dep\\_delay\\\\\n",
       " <int> & <int> & <int> & <dbl>\\\\\n",
       "\\hline\n",
       "\t 2013 & 1 &  9 & 1301\\\\\n",
       "\t 2013 & 6 & 15 & 1137\\\\\n",
       "\t 2013 & 1 & 10 & 1126\\\\\n",
       "\t 2013 & 9 & 20 & 1014\\\\\n",
       "\t 2013 & 7 & 22 & 1005\\\\\n",
       "\t 2013 & 4 & 10 &  960\\\\\n",
       "\t 2013 & 3 & 17 &  911\\\\\n",
       "\t ⋮ & ⋮ & ⋮ & ⋮\\\\\n",
       "\t 2013 & 9 & 29 & NA\\\\\n",
       "\t 2013 & 9 & 30 & NA\\\\\n",
       "\t 2013 & 9 & 30 & NA\\\\\n",
       "\t 2013 & 9 & 30 & NA\\\\\n",
       "\t 2013 & 9 & 30 & NA\\\\\n",
       "\t 2013 & 9 & 30 & NA\\\\\n",
       "\t 2013 & 9 & 30 & NA\\\\\n",
       "\\end{tabular}\n"
      ],
      "text/markdown": [
       "\n",
       "A tibble: 336776 × 4\n",
       "\n",
       "| year &lt;int&gt; | month &lt;int&gt; | day &lt;int&gt; | dep_delay &lt;dbl&gt; |\n",
       "|---|---|---|---|\n",
       "| 2013 | 1 |  9 | 1301 |\n",
       "| 2013 | 6 | 15 | 1137 |\n",
       "| 2013 | 1 | 10 | 1126 |\n",
       "| 2013 | 9 | 20 | 1014 |\n",
       "| 2013 | 7 | 22 | 1005 |\n",
       "| 2013 | 4 | 10 |  960 |\n",
       "| 2013 | 3 | 17 |  911 |\n",
       "| ⋮ | ⋮ | ⋮ | ⋮ |\n",
       "| 2013 | 9 | 29 | NA |\n",
       "| 2013 | 9 | 30 | NA |\n",
       "| 2013 | 9 | 30 | NA |\n",
       "| 2013 | 9 | 30 | NA |\n",
       "| 2013 | 9 | 30 | NA |\n",
       "| 2013 | 9 | 30 | NA |\n",
       "| 2013 | 9 | 30 | NA |\n",
       "\n"
      ],
      "text/plain": [
       "       year month day dep_delay\n",
       "1      2013 1      9  1301     \n",
       "2      2013 6     15  1137     \n",
       "3      2013 1     10  1126     \n",
       "4      2013 9     20  1014     \n",
       "5      2013 7     22  1005     \n",
       "6      2013 4     10   960     \n",
       "7      2013 3     17   911     \n",
       "⋮      ⋮    ⋮     ⋮   ⋮        \n",
       "336770 2013 9     29  NA       \n",
       "336771 2013 9     30  NA       \n",
       "336772 2013 9     30  NA       \n",
       "336773 2013 9     30  NA       \n",
       "336774 2013 9     30  NA       \n",
       "336775 2013 9     30  NA       \n",
       "336776 2013 9     30  NA       "
      ]
     },
     "metadata": {},
     "output_type": "display_data"
    }
   ],
   "source": [
    "select(arrange(flights, desc(dep_delay)), year, month, day, dep_delay)"
   ]
  },
  {
   "cell_type": "markdown",
   "metadata": {},
   "source": [
    "### 7.5 summarize (聚合)\n",
    "- 将多个数字聚合为一个数字。"
   ]
  },
  {
   "cell_type": "code",
   "execution_count": 13,
   "metadata": {
    "vscode": {
     "languageId": "r"
    }
   },
   "outputs": [
    {
     "data": {
      "text/html": [
       "<table class=\"dataframe\">\n",
       "<caption>A tibble: 1 × 1</caption>\n",
       "<thead>\n",
       "\t<tr><th scope=col>delay</th></tr>\n",
       "\t<tr><th scope=col>&lt;dbl&gt;</th></tr>\n",
       "</thead>\n",
       "<tbody>\n",
       "\t<tr><td>12.63907</td></tr>\n",
       "</tbody>\n",
       "</table>\n"
      ],
      "text/latex": [
       "A tibble: 1 × 1\n",
       "\\begin{tabular}{l}\n",
       " delay\\\\\n",
       " <dbl>\\\\\n",
       "\\hline\n",
       "\t 12.63907\\\\\n",
       "\\end{tabular}\n"
      ],
      "text/markdown": [
       "\n",
       "A tibble: 1 × 1\n",
       "\n",
       "| delay &lt;dbl&gt; |\n",
       "|---|\n",
       "| 12.63907 |\n",
       "\n"
      ],
      "text/plain": [
       "  delay   \n",
       "1 12.63907"
      ]
     },
     "metadata": {},
     "output_type": "display_data"
    }
   ],
   "source": [
    "summarise(flights,\n",
    "  delay = mean(dep_delay, na.rm = TRUE) # 设定为移除缺失值后再进行计算\n",
    ")"
   ]
  },
  {
   "cell_type": "markdown",
   "metadata": {},
   "source": [
    "### 7.6 group_by (分组)\n",
    "- `dplyr` 的强大之处在于其支持的 `分组-应用-聚合` 工作流。\n",
    "- 例如，按飞机编号(tailnum)分组，计算航班数量、平均距离和平均延误。"
   ]
  },
  {
   "cell_type": "code",
   "execution_count": null,
   "metadata": {
    "vscode": {
     "languageId": "r"
    }
   },
   "outputs": [
    {
     "data": {
      "text/html": [
       "<table class=\"dataframe\">\n",
       "<caption>A tibble: 2962 × 4</caption>\n",
       "<thead>\n",
       "\t<tr><th scope=col>tailnum</th><th scope=col>count</th><th scope=col>dist</th><th scope=col>arr_delay</th></tr>\n",
       "\t<tr><th scope=col>&lt;chr&gt;</th><th scope=col>&lt;int&gt;</th><th scope=col>&lt;dbl&gt;</th><th scope=col>&lt;dbl&gt;</th></tr>\n",
       "</thead>\n",
       "<tbody>\n",
       "\t<tr><td>N0EGMQ</td><td>371</td><td>676.1887</td><td> 9.9829545</td></tr>\n",
       "\t<tr><td>N10156</td><td>153</td><td>757.9477</td><td>12.7172414</td></tr>\n",
       "\t<tr><td>N102UW</td><td> 48</td><td>535.8750</td><td> 2.9375000</td></tr>\n",
       "\t<tr><td>N103US</td><td> 46</td><td>535.1957</td><td>-6.9347826</td></tr>\n",
       "\t<tr><td>N104UW</td><td> 47</td><td>535.2553</td><td> 1.8043478</td></tr>\n",
       "\t<tr><td>N10575</td><td>289</td><td>519.7024</td><td>20.6914498</td></tr>\n",
       "\t<tr><td>N105UW</td><td> 45</td><td>524.8444</td><td>-0.2666667</td></tr>\n",
       "\t<tr><td>⋮</td><td>⋮</td><td>⋮</td><td>⋮</td></tr>\n",
       "\t<tr><td>N997AT</td><td>  44</td><td>679.0455</td><td>16.302326</td></tr>\n",
       "\t<tr><td>N997DL</td><td>  63</td><td>867.7619</td><td> 4.903226</td></tr>\n",
       "\t<tr><td>N998AT</td><td>  26</td><td>593.5385</td><td>29.960000</td></tr>\n",
       "\t<tr><td>N998DL</td><td>  77</td><td>857.8182</td><td>16.394737</td></tr>\n",
       "\t<tr><td>N999DN</td><td>  61</td><td>895.4590</td><td>14.311475</td></tr>\n",
       "\t<tr><td>N9EAMQ</td><td> 248</td><td>674.6653</td><td> 9.235294</td></tr>\n",
       "\t<tr><td>NA    </td><td>2512</td><td>710.2576</td><td>      NaN</td></tr>\n",
       "</tbody>\n",
       "</table>\n"
      ],
      "text/latex": [
       "A tibble: 2962 × 4\n",
       "\\begin{tabular}{llll}\n",
       " tailnum & count & dist & arr\\_delay\\\\\n",
       " <chr> & <int> & <dbl> & <dbl>\\\\\n",
       "\\hline\n",
       "\t N0EGMQ & 371 & 676.1887 &  9.9829545\\\\\n",
       "\t N10156 & 153 & 757.9477 & 12.7172414\\\\\n",
       "\t N102UW &  48 & 535.8750 &  2.9375000\\\\\n",
       "\t N103US &  46 & 535.1957 & -6.9347826\\\\\n",
       "\t N104UW &  47 & 535.2553 &  1.8043478\\\\\n",
       "\t N10575 & 289 & 519.7024 & 20.6914498\\\\\n",
       "\t N105UW &  45 & 524.8444 & -0.2666667\\\\\n",
       "\t ⋮ & ⋮ & ⋮ & ⋮\\\\\n",
       "\t N997AT &   44 & 679.0455 & 16.302326\\\\\n",
       "\t N997DL &   63 & 867.7619 &  4.903226\\\\\n",
       "\t N998AT &   26 & 593.5385 & 29.960000\\\\\n",
       "\t N998DL &   77 & 857.8182 & 16.394737\\\\\n",
       "\t N999DN &   61 & 895.4590 & 14.311475\\\\\n",
       "\t N9EAMQ &  248 & 674.6653 &  9.235294\\\\\n",
       "\t NA     & 2512 & 710.2576 &       NaN\\\\\n",
       "\\end{tabular}\n"
      ],
      "text/markdown": [
       "\n",
       "A tibble: 2962 × 4\n",
       "\n",
       "| tailnum &lt;chr&gt; | count &lt;int&gt; | dist &lt;dbl&gt; | arr_delay &lt;dbl&gt; |\n",
       "|---|---|---|---|\n",
       "| N0EGMQ | 371 | 676.1887 |  9.9829545 |\n",
       "| N10156 | 153 | 757.9477 | 12.7172414 |\n",
       "| N102UW |  48 | 535.8750 |  2.9375000 |\n",
       "| N103US |  46 | 535.1957 | -6.9347826 |\n",
       "| N104UW |  47 | 535.2553 |  1.8043478 |\n",
       "| N10575 | 289 | 519.7024 | 20.6914498 |\n",
       "| N105UW |  45 | 524.8444 | -0.2666667 |\n",
       "| ⋮ | ⋮ | ⋮ | ⋮ |\n",
       "| N997AT |   44 | 679.0455 | 16.302326 |\n",
       "| N997DL |   63 | 867.7619 |  4.903226 |\n",
       "| N998AT |   26 | 593.5385 | 29.960000 |\n",
       "| N998DL |   77 | 857.8182 | 16.394737 |\n",
       "| N999DN |   61 | 895.4590 | 14.311475 |\n",
       "| N9EAMQ |  248 | 674.6653 |  9.235294 |\n",
       "| NA     | 2512 | 710.2576 |       NaN |\n",
       "\n"
      ],
      "text/plain": [
       "     tailnum count dist     arr_delay \n",
       "1    N0EGMQ  371   676.1887  9.9829545\n",
       "2    N10156  153   757.9477 12.7172414\n",
       "3    N102UW   48   535.8750  2.9375000\n",
       "4    N103US   46   535.1957 -6.9347826\n",
       "5    N104UW   47   535.2553  1.8043478\n",
       "6    N10575  289   519.7024 20.6914498\n",
       "7    N105UW   45   524.8444 -0.2666667\n",
       "⋮    ⋮       ⋮     ⋮        ⋮         \n",
       "2956 N997AT    44  679.0455 16.302326 \n",
       "2957 N997DL    63  867.7619  4.903226 \n",
       "2958 N998AT    26  593.5385 29.960000 \n",
       "2959 N998DL    77  857.8182 16.394737 \n",
       "2960 N999DN    61  895.4590 14.311475 \n",
       "2961 N9EAMQ   248  674.6653  9.235294 \n",
       "2962 NA      2512  710.2576       NaN "
      ]
     },
     "metadata": {},
     "output_type": "display_data"
    }
   ],
   "source": [
    "by_tailnum <- group_by(flights, tailnum)\n",
    "delay <- summarise(by_tailnum,\n",
    "   count = n(),  # 计算数量\n",
    "   dist = mean(distance, na.rm = TRUE),\n",
    "   arr_delay = mean(arr_delay, na.rm = TRUE))\n",
    "delay <- filter(delay, count > 20, dist < 2000)\n",
    "delay"
   ]
  },
  {
   "cell_type": "markdown",
   "metadata": {},
   "source": [
    "## 8 关于数据处理的工作流\n",
    "\n",
    "我们如何一次对数据进行以上多个步骤的处理？请看以下示例：\n",
    "\n",
    ">```R\n",
    ">a1 <- group_by(flights, year, month, day)\n",
    ">a2 <- select(a1, arr_delay, dep_delay)\n",
    ">a3 <- summarise(a2,\n",
    ">  arr = mean(arr_delay, na.rm = TRUE),\n",
    ">  dep = mean(dep_delay, na.rm = TRUE))\n",
    ">a4 <- filter(a3, arr > 30 | dep > 30)\n",
    ">```\n",
    "\n",
    "注意，上面创建了一些变量（如 `a1`），它们仅用于下一步操作后就再也没有被使用。这通常不是一个好的编程习惯，因为浪费了变量。\n",
    "\n",
    "---\n",
    "\n",
    "再看这个:\n",
    "\n",
    ">```R\n",
    ">filter(\n",
    ">  summarise(\n",
    ">    select(\n",
    ">      group_by(flights, year, month, day),\n",
    ">      arr_delay, dep_delay\n",
    ">    ),\n",
    ">    arr = mean(arr_delay, na.rm = TRUE),\n",
    ">    dep = mean(dep_delay, na.rm = TRUE)\n",
    ">  ),\n",
    ">  arr > 30 | dep > 30\n",
    ">)\n",
    ">```\n",
    "\n",
    "这段代码特别难读！\n",
    "\n",
    "下面介绍R中最常用的Pipe Operator，它可作为一种标准的数据处理工作流。\n",
    "\n",
    "---\n",
    "\n",
    "## 9 The Pipe Operator `%>%` (管道操作符)\n",
    "\n",
    "如果按“从内到外”嵌套的方式书写代码，代码可能很难读。\n",
    "为了解决这个问题，可以使用 `%>%` 操作符（Pipe Operator），它可以将 `f(x, y)` 转换为 `x %>% f(y)`的形式。这样代码更容易阅读。\n",
    "\n",
    ">```R\n",
    ">flights %>%\n",
    ">  group_by(year, month, day) %>%\n",
    ">  select(arr_delay, dep_delay) %>%\n",
    ">  summarise(\n",
    ">    arr = mean(arr_delay, na.rm = TRUE),\n",
    ">    dep = mean(dep_delay, na.rm = TRUE)\n",
    ">  ) %>%\n",
    ">  filter(arr > 30 | dep > 30)\n",
    ">```\n",
    "\n",
    "Operator我们知道常译作算子，按顺序罗列算子，再根据算子的顺序进行计算，这样的设计非常的舒服和自然。\n",
    "\n",
    "注：管道操作符 `%>%` 并不是 `dplyr` 发明的，而是来自 `magrittr` 包。它也可以用于其他场景，如：\n",
    ">```R\n",
    ">letters %>% length() # 为变量letters计算长度\n",
    ">```"
   ]
  },
  {
   "cell_type": "markdown",
   "metadata": {},
   "source": [
    "### 与 group_by 一起使用 Pipe Operator\n",
    "\n",
    "我们可以与 group_by 一起使用管道操作符\n",
    "\n",
    "比如以下这段代码："
   ]
  },
  {
   "cell_type": "code",
   "execution_count": null,
   "metadata": {
    "vscode": {
     "languageId": "r"
    }
   },
   "outputs": [
    {
     "data": {
      "text/html": [
       "<table class=\"dataframe\">\n",
       "<caption>A tibble: 86 × 2</caption>\n",
       "<thead>\n",
       "\t<tr><th scope=col>dest</th><th scope=col>n</th></tr>\n",
       "\t<tr><th scope=col>&lt;chr&gt;</th><th scope=col>&lt;int&gt;</th></tr>\n",
       "</thead>\n",
       "<tbody>\n",
       "\t<tr><td>ORD</td><td>6100</td></tr>\n",
       "\t<tr><td>BOS</td><td>5327</td></tr>\n",
       "\t<tr><td>SFO</td><td>5127</td></tr>\n",
       "\t<tr><td>CLT</td><td>5026</td></tr>\n",
       "\t<tr><td>ATL</td><td>5022</td></tr>\n",
       "\t<tr><td>MCO</td><td>4941</td></tr>\n",
       "\t<tr><td>LAX</td><td>4912</td></tr>\n",
       "\t<tr><td>⋮</td><td>⋮</td></tr>\n",
       "\t<tr><td>TVC</td><td>24</td></tr>\n",
       "\t<tr><td>JAC</td><td>23</td></tr>\n",
       "\t<tr><td>HDN</td><td>15</td></tr>\n",
       "\t<tr><td>MTJ</td><td>15</td></tr>\n",
       "\t<tr><td>ANC</td><td> 8</td></tr>\n",
       "\t<tr><td>SBN</td><td> 4</td></tr>\n",
       "\t<tr><td>LGA</td><td> 1</td></tr>\n",
       "</tbody>\n",
       "</table>\n"
      ],
      "text/latex": [
       "A tibble: 86 × 2\n",
       "\\begin{tabular}{ll}\n",
       " dest & n\\\\\n",
       " <chr> & <int>\\\\\n",
       "\\hline\n",
       "\t ORD & 6100\\\\\n",
       "\t BOS & 5327\\\\\n",
       "\t SFO & 5127\\\\\n",
       "\t CLT & 5026\\\\\n",
       "\t ATL & 5022\\\\\n",
       "\t MCO & 4941\\\\\n",
       "\t LAX & 4912\\\\\n",
       "\t ⋮ & ⋮\\\\\n",
       "\t TVC & 24\\\\\n",
       "\t JAC & 23\\\\\n",
       "\t HDN & 15\\\\\n",
       "\t MTJ & 15\\\\\n",
       "\t ANC &  8\\\\\n",
       "\t SBN &  4\\\\\n",
       "\t LGA &  1\\\\\n",
       "\\end{tabular}\n"
      ],
      "text/markdown": [
       "\n",
       "A tibble: 86 × 2\n",
       "\n",
       "| dest &lt;chr&gt; | n &lt;int&gt; |\n",
       "|---|---|\n",
       "| ORD | 6100 |\n",
       "| BOS | 5327 |\n",
       "| SFO | 5127 |\n",
       "| CLT | 5026 |\n",
       "| ATL | 5022 |\n",
       "| MCO | 4941 |\n",
       "| LAX | 4912 |\n",
       "| ⋮ | ⋮ |\n",
       "| TVC | 24 |\n",
       "| JAC | 23 |\n",
       "| HDN | 15 |\n",
       "| MTJ | 15 |\n",
       "| ANC |  8 |\n",
       "| SBN |  4 |\n",
       "| LGA |  1 |\n",
       "\n"
      ],
      "text/plain": [
       "   dest n   \n",
       "1  ORD  6100\n",
       "2  BOS  5327\n",
       "3  SFO  5127\n",
       "4  CLT  5026\n",
       "5  ATL  5022\n",
       "6  MCO  4941\n",
       "7  LAX  4912\n",
       "⋮  ⋮    ⋮   \n",
       "80 TVC  24  \n",
       "81 JAC  23  \n",
       "82 HDN  15  \n",
       "83 MTJ  15  \n",
       "84 ANC   8  \n",
       "85 SBN   4  \n",
       "86 LGA   1  "
      ]
     },
     "metadata": {},
     "output_type": "display_data"
    }
   ],
   "source": [
    "flights %>%\n",
    "  filter(origin == 'EWR') %>%\n",
    "  group_by(dest) %>%\n",
    "  summarize(n = n()) %>%\n",
    "  arrange(desc(n))"
   ]
  },
  {
   "cell_type": "markdown",
   "metadata": {},
   "source": [
    "**练习：**\n",
    "\n",
    "我们已经看到的用于数据转换的几个函数：\n",
    "\n",
    "1) select\n",
    "\n",
    "2) filter\n",
    "\n",
    "3) mutate\n",
    "\n",
    "4) arrange\n",
    "\n",
    "5) summarise\n",
    "\n",
    "---\n",
    "\n",
    "现在需要对 `colon` 数据集按以下步骤进行连续操作（请确保使用 %>% 操作符！）：\n",
    "\n",
    "1) `study` 列仅包含 1，因此为了简化，删除该列。\n",
    "\n",
    "2) 我们只需要 etype 为 2 的行（这些是死亡事件，而非复发事件）。\n",
    "\n",
    "3) 将时间（time）转换为按月计（假设每月正好 30 天）。\n",
    "\n",
    "4) 按年龄从低到高排序数据框。\n",
    "\n",
    "5) 按治疗方法（rx）分组，显示一个简单的生存时间（月）的平均值摘要。\n",
    "\n",
    "\n",
    "---\n",
    "\n",
    "survival包的`colon`数据集介绍：\n",
    "\n",
    ">```R\n",
    ">library(survival)\n",
    "># 加载数据集\n",
    ">data(colon)\n",
    "># 查看数据集的前6行\n",
    ">head(colon)\n",
    ">```\n",
    "\n",
    "`colon` 数据集是 R 的 `survival` 包中包含的一个经典数据集，主要用于研究结肠癌患者的生存分析。该数据集记录了患者的多个临床和试验信息，可用于探索生存时间与各种因素之间的关系。\n",
    "数据集包含多个变量，包括治疗方法、性别（1 = 男性）、年龄，以及一些试验特定的指标。变量`etype`表示事件类型（死亡或复发）。\n",
    "\n",
    "---"
   ]
  },
  {
   "cell_type": "code",
   "execution_count": 16,
   "metadata": {
    "vscode": {
     "languageId": "r"
    }
   },
   "outputs": [
    {
     "name": "stderr",
     "output_type": "stream",
     "text": [
      "Warning message:\n",
      "\"package 'survival' was built under R version 4.4.2\"\n",
      "Warning message in data(colon):\n",
      "\"data set 'colon' not found\"\n"
     ]
    },
    {
     "data": {
      "text/html": [
       "<table class=\"dataframe\">\n",
       "<caption>A data.frame: 6 × 16</caption>\n",
       "<thead>\n",
       "\t<tr><th></th><th scope=col>id</th><th scope=col>study</th><th scope=col>rx</th><th scope=col>sex</th><th scope=col>⋯</th><th scope=col>surg</th><th scope=col>node4</th><th scope=col>time</th><th scope=col>etype</th></tr>\n",
       "\t<tr><th></th><th scope=col>&lt;dbl&gt;</th><th scope=col>&lt;dbl&gt;</th><th scope=col>&lt;fct&gt;</th><th scope=col>&lt;dbl&gt;</th><th scope=col>⋯</th><th scope=col>&lt;dbl&gt;</th><th scope=col>&lt;dbl&gt;</th><th scope=col>&lt;dbl&gt;</th><th scope=col>&lt;dbl&gt;</th></tr>\n",
       "</thead>\n",
       "<tbody>\n",
       "\t<tr><th scope=row>1</th><td>1</td><td>1</td><td>Lev+5FU</td><td>1</td><td>⋯</td><td>0</td><td>1</td><td>1521</td><td>2</td></tr>\n",
       "\t<tr><th scope=row>2</th><td>1</td><td>1</td><td>Lev+5FU</td><td>1</td><td>⋯</td><td>0</td><td>1</td><td> 968</td><td>1</td></tr>\n",
       "\t<tr><th scope=row>3</th><td>2</td><td>1</td><td>Lev+5FU</td><td>1</td><td>⋯</td><td>0</td><td>0</td><td>3087</td><td>2</td></tr>\n",
       "\t<tr><th scope=row>4</th><td>2</td><td>1</td><td>Lev+5FU</td><td>1</td><td>⋯</td><td>0</td><td>0</td><td>3087</td><td>1</td></tr>\n",
       "\t<tr><th scope=row>5</th><td>3</td><td>1</td><td>Obs    </td><td>0</td><td>⋯</td><td>0</td><td>1</td><td> 963</td><td>2</td></tr>\n",
       "\t<tr><th scope=row>6</th><td>3</td><td>1</td><td>Obs    </td><td>0</td><td>⋯</td><td>0</td><td>1</td><td> 542</td><td>1</td></tr>\n",
       "</tbody>\n",
       "</table>\n"
      ],
      "text/latex": [
       "A data.frame: 6 × 16\n",
       "\\begin{tabular}{r|lllllllll}\n",
       "  & id & study & rx & sex & ⋯ & surg & node4 & time & etype\\\\\n",
       "  & <dbl> & <dbl> & <fct> & <dbl> & ⋯ & <dbl> & <dbl> & <dbl> & <dbl>\\\\\n",
       "\\hline\n",
       "\t1 & 1 & 1 & Lev+5FU & 1 & ⋯ & 0 & 1 & 1521 & 2\\\\\n",
       "\t2 & 1 & 1 & Lev+5FU & 1 & ⋯ & 0 & 1 &  968 & 1\\\\\n",
       "\t3 & 2 & 1 & Lev+5FU & 1 & ⋯ & 0 & 0 & 3087 & 2\\\\\n",
       "\t4 & 2 & 1 & Lev+5FU & 1 & ⋯ & 0 & 0 & 3087 & 1\\\\\n",
       "\t5 & 3 & 1 & Obs     & 0 & ⋯ & 0 & 1 &  963 & 2\\\\\n",
       "\t6 & 3 & 1 & Obs     & 0 & ⋯ & 0 & 1 &  542 & 1\\\\\n",
       "\\end{tabular}\n"
      ],
      "text/markdown": [
       "\n",
       "A data.frame: 6 × 16\n",
       "\n",
       "| <!--/--> | id &lt;dbl&gt; | study &lt;dbl&gt; | rx &lt;fct&gt; | sex &lt;dbl&gt; | ⋯ ⋯ | surg &lt;dbl&gt; | node4 &lt;dbl&gt; | time &lt;dbl&gt; | etype &lt;dbl&gt; |\n",
       "|---|---|---|---|---|---|---|---|---|---|\n",
       "| 1 | 1 | 1 | Lev+5FU | 1 | ⋯ | 0 | 1 | 1521 | 2 |\n",
       "| 2 | 1 | 1 | Lev+5FU | 1 | ⋯ | 0 | 1 |  968 | 1 |\n",
       "| 3 | 2 | 1 | Lev+5FU | 1 | ⋯ | 0 | 0 | 3087 | 2 |\n",
       "| 4 | 2 | 1 | Lev+5FU | 1 | ⋯ | 0 | 0 | 3087 | 1 |\n",
       "| 5 | 3 | 1 | Obs     | 0 | ⋯ | 0 | 1 |  963 | 2 |\n",
       "| 6 | 3 | 1 | Obs     | 0 | ⋯ | 0 | 1 |  542 | 1 |\n",
       "\n"
      ],
      "text/plain": [
       "  id study rx      sex ⋯ surg node4 time etype\n",
       "1 1  1     Lev+5FU 1   ⋯ 0    1     1521 2    \n",
       "2 1  1     Lev+5FU 1   ⋯ 0    1      968 1    \n",
       "3 2  1     Lev+5FU 1   ⋯ 0    0     3087 2    \n",
       "4 2  1     Lev+5FU 1   ⋯ 0    0     3087 1    \n",
       "5 3  1     Obs     0   ⋯ 0    1      963 2    \n",
       "6 3  1     Obs     0   ⋯ 0    1      542 1    "
      ]
     },
     "metadata": {},
     "output_type": "display_data"
    }
   ],
   "source": [
    "library(survival)\n",
    "# 加载数据集\n",
    "data(colon)\n",
    "# 查看数据集的前6行\n",
    "head(colon)"
   ]
  },
  {
   "cell_type": "markdown",
   "metadata": {},
   "source": [
    "### 练习解答"
   ]
  },
  {
   "cell_type": "code",
   "execution_count": null,
   "metadata": {
    "vscode": {
     "languageId": "r"
    }
   },
   "outputs": [
    {
     "data": {
      "text/html": [
       "<table class=\"dataframe\">\n",
       "<caption>A tibble: 3 × 2</caption>\n",
       "<thead>\n",
       "\t<tr><th scope=col>rx</th><th scope=col>avg_months</th></tr>\n",
       "\t<tr><th scope=col>&lt;fct&gt;</th><th scope=col>&lt;dbl&gt;</th></tr>\n",
       "</thead>\n",
       "<tbody>\n",
       "\t<tr><td>Obs    </td><td>53.34286</td></tr>\n",
       "\t<tr><td>Lev    </td><td>53.81290</td></tr>\n",
       "\t<tr><td>Lev+5FU</td><td>59.95066</td></tr>\n",
       "</tbody>\n",
       "</table>\n"
      ],
      "text/latex": [
       "A tibble: 3 × 2\n",
       "\\begin{tabular}{ll}\n",
       " rx & avg\\_months\\\\\n",
       " <fct> & <dbl>\\\\\n",
       "\\hline\n",
       "\t Obs     & 53.34286\\\\\n",
       "\t Lev     & 53.81290\\\\\n",
       "\t Lev+5FU & 59.95066\\\\\n",
       "\\end{tabular}\n"
      ],
      "text/markdown": [
       "\n",
       "A tibble: 3 × 2\n",
       "\n",
       "| rx &lt;fct&gt; | avg_months &lt;dbl&gt; |\n",
       "|---|---|\n",
       "| Obs     | 53.34286 |\n",
       "| Lev     | 53.81290 |\n",
       "| Lev+5FU | 59.95066 |\n",
       "\n"
      ],
      "text/plain": [
       "  rx      avg_months\n",
       "1 Obs     53.34286  \n",
       "2 Lev     53.81290  \n",
       "3 Lev+5FU 59.95066  "
      ]
     },
     "metadata": {},
     "output_type": "display_data"
    }
   ],
   "source": [
    "colon %>%\n",
    "    select(-study) %>%\n",
    "    filter(etype == 2) %>%\n",
    "    mutate(time = round(time / 30)) %>%\n",
    "    arrange(age) %>%\n",
    "    group_by(rx) %>%\n",
    "    summarize(avg_months = mean(time))"
   ]
  },
  {
   "cell_type": "markdown",
   "metadata": {},
   "source": [
    "## 10 使用 `ggplot2` 绘图\n",
    "\n",
    "我们可以使用`ggplot2`进行绘图。\n",
    "\n",
    "### 例子①\n",
    "对 `flights` 数据集进行过滤并创建一个箱线图（Boxplot），显示按月份分类的到达延误情况，并以不同出发地用颜色区分。"
   ]
  },
  {
   "cell_type": "code",
   "execution_count": null,
   "metadata": {
    "vscode": {
     "languageId": "r"
    }
   },
   "outputs": [
    {
     "data": {
      "image/png": "[encoded data removed]",
      "text/plain": [
       "plot without title"
      ]
     },
     "metadata": {
      "image/png": {
       "height": 420,
       "width": 420
      }
     },
     "output_type": "display_data"
    }
   ],
   "source": [
    "library(ggplot2)\n",
    "flights %>%\n",
    "    filter(arr_delay <= 360) %>%\n",
    "    ggplot(aes(x = factor(month), y = arr_delay, color = origin)) +\n",
    "    geom_boxplot() +\n",
    "    ggtitle(\"按月份的延误情况\") +\n",
    "    xlab(\"月份\") +\n",
    "    ylab(\"到达延误时间（分钟）\")"
   ]
  },
  {
   "cell_type": "markdown",
   "metadata": {},
   "source": [
    "ggplot代码详解\n",
    "\n",
    "**1. 初始化绘图对象：`ggplot(aes(x = factor(month), y = arr_delay, color = origin))`**\n",
    "\n",
    "- `ggplot()`: 创建一个 ggplot 对象，用于绘图。\n",
    "\n",
    "- `aes()`\n",
    "\n",
    "  : 定义图形映射（aesthetics），即图表中的变量和属性的关系：\n",
    "\n",
    "  - **`x = factor(month)`**: 将 `month` 变量映射到 X 轴，并将其转换为因子（`factor`），以确保月份以分类变量的形式呈现。\n",
    "  - **`y = arr_delay`**: 将 `arr_delay` 变量映射到 Y 轴，表示到达延误时间。\n",
    "  - **`color = origin`**: 使用 `origin`（航班出发地）区分数据点的颜色。\n",
    "\n",
    "**2. 添加几何对象：`geom_boxplot()`**\n",
    "\n",
    "- `geom_boxplot()`\n",
    "\n",
    "  : 绘制箱线图，用于显示每个月到达延误时间的分布情况。\n",
    "\n",
    "  - 每个箱线图表示一个月份的延误数据分布。\n",
    "  - 通过箱线图可以看到数据的中位数、四分位数范围以及潜在的异常值。\n",
    "\n",
    "**3. 添加标题和轴标签**\n",
    "\n",
    "- **`ggtitle(\"按月份的延误情况\")`**: 设置图表的主标题。\n",
    "- **`xlab(\"月份\")`**: 设置 X 轴标签为“月份”。\n",
    "- **`ylab(\"到达延误时间（分钟）\")`**: 设置 Y 轴标签为“到达延误时间（分钟）”。"
   ]
  },
  {
   "cell_type": "markdown",
   "metadata": {},
   "source": [
    "### 例子②"
   ]
  },
  {
   "cell_type": "code",
   "execution_count": 19,
   "metadata": {
    "vscode": {
     "languageId": "r"
    }
   },
   "outputs": [
    {
     "data": {
      "image/png": "[encoded data removed]",
      "text/plain": [
       "plot without title"
      ]
     },
     "metadata": {
      "image/png": {
       "height": 420,
       "width": 420
      }
     },
     "output_type": "display_data"
    }
   ],
   "source": [
    "flights %>%\n",
    "    filter(month == 1, arr_delay < 360, dep_delay < 360) %>%\n",
    "    ggplot(aes(x = dep_delay, y = arr_delay)) +\n",
    "    geom_point() +\n",
    "    ggtitle(\"Relation between Dep and Arrival Delay\") +\n",
    "    xlab(\"Departure Delay (min)\") +\n",
    "    ylab(\"Arrival Delay (min)\")"
   ]
  }
 ],
 "metadata": {
  "kernelspec": {
   "display_name": "R",
   "language": "R",
   "name": "ir"
  },
  "language_info": {
   "codemirror_mode": "r",
   "file_extension": ".r",
   "mimetype": "text/x-r-source",
   "name": "R",
   "pygments_lexer": "r",
   "version": "4.4.1"
  }
 },
 "nbformat": 4,
 "nbformat_minor": 2
}
